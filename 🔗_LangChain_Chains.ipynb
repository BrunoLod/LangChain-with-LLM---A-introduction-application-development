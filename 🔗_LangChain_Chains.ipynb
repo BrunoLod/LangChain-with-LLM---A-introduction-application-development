{
  "nbformat": 4,
  "nbformat_minor": 0,
  "metadata": {
    "colab": {
      "provenance": []
    },
    "kernelspec": {
      "name": "python3",
      "display_name": "Python 3"
    },
    "language_info": {
      "name": "python"
    }
  },
  "cells": [
    {
      "cell_type": "markdown",
      "source": [
        "## Apresentação ✒️\n",
        "\n",
        "Notebook destinado ao estudo do framework LangChain. Nesse notebook, trago a explicação e implementação do recurso das Chains, que permite formar uma cadeia de prompts, os quais podem ser fornecidos à LLM separadamente, passíveis de serem integrados posteriormente.\n",
        "\n",
        "Essa abordagem visa o aumento da eficiência das respostas das LLM's, dado que, segundo o Estado da Arte, sabe-se que à medida que se adiciona k temas numa mesma janela de conversa a LLM de uso passa a perceber cada vez menos a importância do que é de interesse do usuário, além de misturar temas que não necessariamente estão relacionados ou estão sendo requisitados."
      ],
      "metadata": {
        "id": "C2JDRc13LHd9"
      }
    },
    {
      "cell_type": "markdown",
      "source": [
        "## Bibliotecas 📚"
      ],
      "metadata": {
        "id": "HutbpNCzMYFn"
      }
    },
    {
      "cell_type": "code",
      "execution_count": 1,
      "metadata": {
        "colab": {
          "base_uri": "https://localhost:8080/"
        },
        "id": "BydcWNU3LBi2",
        "outputId": "12ad1935-5dd2-460c-e20f-ed90de89b2a6"
      },
      "outputs": [
        {
          "output_type": "stream",
          "name": "stdout",
          "text": [
            "\u001b[2K     \u001b[90m━━━━━━━━━━━━━━━━━━━━━━━━━━━━━━━━━━━━━━━━\u001b[0m \u001b[32m975.5/975.5 kB\u001b[0m \u001b[31m10.2 MB/s\u001b[0m eta \u001b[36m0:00:00\u001b[0m\n",
            "\u001b[2K     \u001b[90m━━━━━━━━━━━━━━━━━━━━━━━━━━━━━━━━━━━━━━━━\u001b[0m \u001b[32m332.8/332.8 kB\u001b[0m \u001b[31m31.5 MB/s\u001b[0m eta \u001b[36m0:00:00\u001b[0m\n",
            "\u001b[2K     \u001b[90m━━━━━━━━━━━━━━━━━━━━━━━━━━━━━━━━━━━━━━━━\u001b[0m \u001b[32m127.4/127.4 kB\u001b[0m \u001b[31m15.1 MB/s\u001b[0m eta \u001b[36m0:00:00\u001b[0m\n",
            "\u001b[2K     \u001b[90m━━━━━━━━━━━━━━━━━━━━━━━━━━━━━━━━━━━━━━━━\u001b[0m \u001b[32m145.0/145.0 kB\u001b[0m \u001b[31m13.5 MB/s\u001b[0m eta \u001b[36m0:00:00\u001b[0m\n",
            "\u001b[2K     \u001b[90m━━━━━━━━━━━━━━━━━━━━━━━━━━━━━━━━━━━━━━━━\u001b[0m \u001b[32m163.1/163.1 kB\u001b[0m \u001b[31m4.8 MB/s\u001b[0m eta \u001b[36m0:00:00\u001b[0m\n",
            "\u001b[2K     \u001b[90m━━━━━━━━━━━━━━━━━━━━━━━━━━━━━━━━━━━━━━━━\u001b[0m \u001b[32m717.3/717.3 kB\u001b[0m \u001b[31m19.5 MB/s\u001b[0m eta \u001b[36m0:00:00\u001b[0m\n",
            "\u001b[?25h"
          ]
        }
      ],
      "source": [
        "!pip install google-generativeai -q\n",
        "\n",
        "!pip install langchain -q\n",
        "\n",
        "!pip install langchain_google_genai -q"
      ]
    },
    {
      "cell_type": "code",
      "source": [
        "\n",
        "import warnings\n",
        "warnings.filterwarnings('ignore')\n",
        "\n",
        "import google.generativeai as genai\n",
        "\n",
        "from IPython.display import Markdown\n",
        "\n",
        "import os\n",
        "import langchain\n",
        "\n",
        "from langchain_google_genai import ChatGoogleGenerativeAI\n",
        "\n",
        "from langchain.prompts import ChatPromptTemplate\n",
        "\n",
        "from langchain.chains import ConversationChain\n",
        "\n",
        "from langchain.memory import ConversationBufferWindowMemory\n",
        "from langchain.memory import ConversationSummaryBufferMemory\n",
        "\n",
        "from langchain.prompts import ChatPromptTemplate\n",
        "from langchain.chains import LLMChain\n",
        "from langchain.chains import SimpleSequentialChain\n",
        "from langchain.chains import SequentialChain\n",
        "\n",
        "from langchain.chains.router import MultiPromptChain\n",
        "from langchain.chains.router.llm_router import LLMRouterChain,RouterOutputParser\n",
        "from langchain.prompts import PromptTemplate"
      ],
      "metadata": {
        "id": "juKs7myzMgN8"
      },
      "execution_count": 59,
      "outputs": []
    },
    {
      "cell_type": "code",
      "source": [
        "os.environ['GOOGLE_API_KEY'] = 'sua-api-key'\n",
        "\n",
        "genai.configure(api_key=os.environ['GOOGLE_API_KEY'])\n",
        ""
      ],
      "metadata": {
        "id": "orvLxRssMlNA"
      },
      "execution_count": 3,
      "outputs": []
    },
    {
      "cell_type": "code",
      "source": [
        "# Criando o modelo de llm utilizado com o google gemini.\n",
        "\n",
        "llm = ChatGoogleGenerativeAI(\n",
        "    model = \"gemini-1.5-pro-latest\",\n",
        "    temperature = 0.8,\n",
        "    max_output_tokens=2000\n",
        ")"
      ],
      "metadata": {
        "id": "zIKzpueoMlOR"
      },
      "execution_count": 4,
      "outputs": []
    },
    {
      "cell_type": "code",
      "source": [
        "interesse = \"cyberpunk\""
      ],
      "metadata": {
        "id": "zSLP48kLVnDy"
      },
      "execution_count": 34,
      "outputs": []
    },
    {
      "cell_type": "code",
      "source": [
        "texto = \"\"\"Forneca a criação de uma letra de música\n",
        "dado o interesse por {interesse}.\n",
        "\"\"\""
      ],
      "metadata": {
        "id": "sH2aAtoCM3Ec"
      },
      "execution_count": 35,
      "outputs": []
    },
    {
      "cell_type": "code",
      "source": [
        "texto_2 = \"\"\"Analise a {letra} criada e, se necessário,\n",
        "a adapte ao seu estilo musical post-metal, semelhante\n",
        "ao do Bring Me The Horizon.\n",
        "\"\"\""
      ],
      "metadata": {
        "id": "DwgBnfFLUYbC"
      },
      "execution_count": 43,
      "outputs": []
    },
    {
      "cell_type": "code",
      "source": [
        "input = {\"interesse\" : interesse}"
      ],
      "metadata": {
        "id": "11iz9tA1QnIA"
      },
      "execution_count": 44,
      "outputs": []
    },
    {
      "cell_type": "code",
      "source": [
        "# Criando uma chain :\n",
        "\n",
        "first_prompt = ChatPromptTemplate.from_template(texto)\n",
        "\n",
        "# Chain 1°\n",
        "\n",
        "chain_one = LLMChain(llm=llm, prompt=first_prompt)"
      ],
      "metadata": {
        "id": "QCEh-8PAQWU1"
      },
      "execution_count": 45,
      "outputs": []
    },
    {
      "cell_type": "code",
      "source": [
        "# Visualizando o objeto chain e o seu tipo :\n",
        "\n",
        "print(chain_one)\n",
        "print(type(chain_one))"
      ],
      "metadata": {
        "colab": {
          "base_uri": "https://localhost:8080/"
        },
        "id": "d6wn82ZmQgIB",
        "outputId": "a861f2d4-e18d-4429-d393-5b73a2adab13"
      },
      "execution_count": 46,
      "outputs": [
        {
          "output_type": "stream",
          "name": "stdout",
          "text": [
            "prompt=ChatPromptTemplate(input_variables=['interesse'], messages=[HumanMessagePromptTemplate(prompt=PromptTemplate(input_variables=['interesse'], template='Forneca a criação de uma letra de música\\ndado o interesse por {interesse}. \\n'))]) llm=ChatGoogleGenerativeAI(model='models/gemini-1.5-pro-latest', temperature=0.8, max_output_tokens=2000, client=<google.ai.generativelanguage_v1beta.services.generative_service.client.GenerativeServiceClient object at 0x782ef811abf0>, async_client=<google.ai.generativelanguage_v1beta.services.generative_service.async_client.GenerativeServiceAsyncClient object at 0x782ebf7beb60>, default_metadata=())\n",
            "<class 'langchain.chains.llm.LLMChain'>\n"
          ]
        }
      ]
    },
    {
      "cell_type": "code",
      "source": [
        "second_prompt = ChatPromptTemplate.from_template(texto_2)\n",
        "\n",
        "# Chain 2°\n",
        "\n",
        "chain_two = LLMChain(llm=llm, prompt=second_prompt)"
      ],
      "metadata": {
        "id": "iFq89YD1RC1c"
      },
      "execution_count": 47,
      "outputs": []
    },
    {
      "cell_type": "code",
      "source": [
        "simple_chain = SimpleSequentialChain(chains=[chain_one, chain_two],\n",
        "                                     verbose=True)"
      ],
      "metadata": {
        "id": "DV9g0JMnSbky"
      },
      "execution_count": 48,
      "outputs": []
    },
    {
      "cell_type": "code",
      "source": [
        "simple_chain.run(input=input)"
      ],
      "metadata": {
        "colab": {
          "base_uri": "https://localhost:8080/",
          "height": 1000
        },
        "id": "AfyoX8m1VICV",
        "outputId": "4fa2afd6-8425-44ab-d01c-5d7c3a690de8"
      },
      "execution_count": 50,
      "outputs": [
        {
          "output_type": "stream",
          "name": "stdout",
          "text": [
            "\n",
            "\n",
            "\u001b[1m> Entering new SimpleSequentialChain chain...\u001b[0m\n",
            "\u001b[36;1m\u001b[1;3m## Cidade Neon (Cyberpunk Song)\n",
            "\n",
            "(Intro - Synthwave com batida forte)\n",
            "\n",
            "A chuva cai fria, reflete o neon\n",
            "Na multidão que corre, sem nome, sem dono\n",
            "Prédios cinzas tocam o céu poluído\n",
            "Um labirinto de concreto, onde o futuro foi traído\n",
            "\n",
            "(Verso 1)\n",
            "Olhos de aço observam, câmeras por toda parte\n",
            "Implante neural pulsa, conectado à grande arte\n",
            "Da informação que flui, um mar digital sem fim\n",
            "Mergulho na matrix, onde a realidade é um sinônimo de \"sim\"\n",
            "\n",
            "(Refrão)\n",
            "Cidade neon, selva de concreto e aço\n",
            "Um grito silencioso ecoa, ninguém te ouve, é o caso\n",
            "A humanidade se perde em bits, um download sem volta\n",
            "Na teia da ilusão tecida, a alma se esvazia e solta\n",
            "\n",
            "(Verso 2)\n",
            "Corpos modificados, buscando a perfeição\n",
            "Mas a alma fragmentada, reflete a desilusão\n",
            "Mega-corporações ditam o ritmo da cidade\n",
            "Controlando mentes e sonhos, com a falsa realidade\n",
            "\n",
            "(Refrão)\n",
            "Cidade neon, selva de concreto e aço\n",
            "Um grito silencioso ecoa, ninguém te ouve, é o caso\n",
            "A humanidade se perde em bits, um download sem volta\n",
            "Na teia da ilusão tecida, a alma se esvazia e solta\n",
            "\n",
            "(Ponte)\n",
            "Ainda existe esperança? Uma fagulha no breu?\n",
            "Um fio de conexão humana, que nos liberte do véu\n",
            "Quebraremos as correntes, da opressão digital\n",
            "E construiremos um futuro, onde a liberdade seja o sinal\n",
            "\n",
            "(Refrão)\n",
            "Cidade neon, selva de concreto e aço\n",
            "Um grito silencioso ecoa, mas agora te escuto, é o caso\n",
            "A humanidade se levanta em bits, um download da revolta\n",
            "Na teia da ilusão rompida, a alma se liberta e volta\n",
            "\n",
            "(Outro - Synthwave com batida acelerada) \n",
            "A chuva para, um raio de sol artificial\n",
            "Ilumina a cidade neon, num futuro ainda inicial. \n",
            "\u001b[0m\n",
            "\u001b[33;1m\u001b[1;3m## Análise de \"Cidade Neon\" para um estilo Post-Metal (Bring Me The Horizon)\n",
            "\n",
            "A letra de \"Cidade Neon\" já apresenta elementos cyberpunk que se encaixam na sonoridade do Bring Me The Horizon, explorando a alienação, a crítica social e a luta contra o sistema. Para potencializar a música nesse estilo, podemos pensar em:\n",
            "\n",
            "**Introdução:**\n",
            "\n",
            "* Começar com um riff de guitarra dissonante e atmosférico, criando uma sensação de suspense e opressão, similar à introdução de \"Doomed\".\n",
            "* A bateria pode entrar com um ritmo tribal lento e crescente, evocando a pulsação da cidade e o crescente sentimento de revolta.\n",
            "* A melodia do sintetizador pode ser distorcida e texturizada, criando uma paisagem sonora densa e claustrofóbica.\n",
            "\n",
            "**Versos:**\n",
            "\n",
            "* Os versos podem alternar entre vocais agressivos e sussurrados, transmitindo a raiva e a frustração do eu lírico em meio à cidade opressora.\n",
            "* As guitarras podem usar riffs pesados e grooves sinistros, criando uma atmosfera sufocante e tensa, como em \"Shadow Moses\".\n",
            "* O baixo pode seguir as guitarras, adicionando peso e profundidade à sonoridade.\n",
            "\n",
            "**Refrão:**\n",
            "\n",
            "* O refrão pede um contraste, com vocais mais melódicos e poderosos, expressando o grito de revolta e o anseio por liberdade. \n",
            "* As guitarras podem explodir em riffs épicos e dissonantes, como em \"Can You Feel My Heart\", criando um momento catártico e libertador.\n",
            "* A bateria pode acelerar o ritmo, com batidas fortes e marcantes, intensificando a energia da música.\n",
            "\n",
            "**Ponte:**\n",
            "\n",
            "* A ponte pode ser um momento de respiro na música, com melodias melancólicas e introspectivas, usando elementos eletrônicos e orquestrais para criar uma atmosfera etérea e angustiante, similar à ponte de \"Sleepwalking\".\n",
            "* Os vocais podem ser sussurrados ou falados, expressando a fragilidade da esperança em meio ao caos.\n",
            "\n",
            "**Quebra e Refrão Final:**\n",
            "\n",
            "* Antes do refrão final, podemos inserir uma quebra com um breakdown caótico e dissonante, com gritos guturais e instrumentos no limite da distorção, representando a ruptura com o sistema e a explosão da revolta.\n",
            "* O refrão final retorna com ainda mais força, com vocais agressivos e desesperados, expressando a luta pela liberdade e a recusa em se submeter à opressão.\n",
            "\n",
            "**Elementos Adicionais:**\n",
            "\n",
            "* Samples de notícias, diálogos de filmes cyberpunk e ruídos industriais podem ser incorporados à música para criar uma atmosfera cyberpunk.\n",
            "* Efeitos sonoros de glitches, distorções e ruídos eletrônicos podem ser usados para criar uma sensação de desorientação e alienação.\n",
            "* A produção da música deve ser crua e poderosa, com bastante peso nos graves e uma sonoridade sombria e industrial, característica do estilo do Bring Me The Horizon.\n",
            "\n",
            "Adaptando \"Cidade Neon\" para o estilo do Bring Me The Horizon, podemos criar uma música ainda mais impactante e visceral, que transmita a angústia, a revolta e a busca por liberdade em um futuro cyberpunk opressor. \n",
            "\u001b[0m\n",
            "\n",
            "\u001b[1m> Finished chain.\u001b[0m\n"
          ]
        },
        {
          "output_type": "execute_result",
          "data": {
            "text/plain": [
              "'## Análise de \"Cidade Neon\" para um estilo Post-Metal (Bring Me The Horizon)\\n\\nA letra de \"Cidade Neon\" já apresenta elementos cyberpunk que se encaixam na sonoridade do Bring Me The Horizon, explorando a alienação, a crítica social e a luta contra o sistema. Para potencializar a música nesse estilo, podemos pensar em:\\n\\n**Introdução:**\\n\\n* Começar com um riff de guitarra dissonante e atmosférico, criando uma sensação de suspense e opressão, similar à introdução de \"Doomed\".\\n* A bateria pode entrar com um ritmo tribal lento e crescente, evocando a pulsação da cidade e o crescente sentimento de revolta.\\n* A melodia do sintetizador pode ser distorcida e texturizada, criando uma paisagem sonora densa e claustrofóbica.\\n\\n**Versos:**\\n\\n* Os versos podem alternar entre vocais agressivos e sussurrados, transmitindo a raiva e a frustração do eu lírico em meio à cidade opressora.\\n* As guitarras podem usar riffs pesados e grooves sinistros, criando uma atmosfera sufocante e tensa, como em \"Shadow Moses\".\\n* O baixo pode seguir as guitarras, adicionando peso e profundidade à sonoridade.\\n\\n**Refrão:**\\n\\n* O refrão pede um contraste, com vocais mais melódicos e poderosos, expressando o grito de revolta e o anseio por liberdade. \\n* As guitarras podem explodir em riffs épicos e dissonantes, como em \"Can You Feel My Heart\", criando um momento catártico e libertador.\\n* A bateria pode acelerar o ritmo, com batidas fortes e marcantes, intensificando a energia da música.\\n\\n**Ponte:**\\n\\n* A ponte pode ser um momento de respiro na música, com melodias melancólicas e introspectivas, usando elementos eletrônicos e orquestrais para criar uma atmosfera etérea e angustiante, similar à ponte de \"Sleepwalking\".\\n* Os vocais podem ser sussurrados ou falados, expressando a fragilidade da esperança em meio ao caos.\\n\\n**Quebra e Refrão Final:**\\n\\n* Antes do refrão final, podemos inserir uma quebra com um breakdown caótico e dissonante, com gritos guturais e instrumentos no limite da distorção, representando a ruptura com o sistema e a explosão da revolta.\\n* O refrão final retorna com ainda mais força, com vocais agressivos e desesperados, expressando a luta pela liberdade e a recusa em se submeter à opressão.\\n\\n**Elementos Adicionais:**\\n\\n* Samples de notícias, diálogos de filmes cyberpunk e ruídos industriais podem ser incorporados à música para criar uma atmosfera cyberpunk.\\n* Efeitos sonoros de glitches, distorções e ruídos eletrônicos podem ser usados para criar uma sensação de desorientação e alienação.\\n* A produção da música deve ser crua e poderosa, com bastante peso nos graves e uma sonoridade sombria e industrial, característica do estilo do Bring Me The Horizon.\\n\\nAdaptando \"Cidade Neon\" para o estilo do Bring Me The Horizon, podemos criar uma música ainda mais impactante e visceral, que transmita a angústia, a revolta e a busca por liberdade em um futuro cyberpunk opressor. \\n'"
            ],
            "application/vnd.google.colaboratory.intrinsic+json": {
              "type": "string"
            }
          },
          "metadata": {},
          "execution_count": 50
        }
      ]
    },
    {
      "cell_type": "markdown",
      "source": [],
      "metadata": {
        "id": "G5-0dC6ktUHx"
      }
    },
    {
      "cell_type": "markdown",
      "source": [
        "## Sequential Chain\n",
        "\n",
        "A Sequential Chain ao contrário da anterior, permite múltiplos inputs e outputs, de modo a conseguir criar uma cadeia de chains que não precisam ser mais linearizadas, na forma que a saída de uma é a entrada da outra, mas pode formar uma arquitetura mais complexa, de modo a poder produzir outputs e a receber inputs, que não necessariamente são lineares. Vejamos uma de suas implementações."
      ],
      "metadata": {
        "id": "lBNKEbWmtUJg"
      }
    },
    {
      "cell_type": "code",
      "source": [
        "ideia = \"o gênero cyperpunk\"\n",
        "# Criação dos prompts :\n",
        "\n",
        "prompt_1 = ChatPromptTemplate.from_template(\n",
        "    \"Faça um pequeno texto uma lore para uma história, que explore {ideia}.\"\n",
        ")\n",
        "\n",
        "chain_one = LLMChain(llm=llm, prompt=prompt_1, output_key=\"lore\")\n",
        "\n",
        "prompt_2 = ChatPromptTemplate.from_template(\n",
        "    \"Analise a {lore} criada e acrescente a ela elementos estéticos góticos e os seguintes temas : busca pelo amor, busca pela aceitação, rejeição, abandono, terror psicológico.\"\n",
        "    \"Após a análise e incremento dos elementos citados, faça uma versão final e corente da lore elaborada.\"\n",
        ")\n",
        "\n",
        "chain_two = LLMChain(llm=llm, prompt=prompt_2, output_key=\"versao_coerente\")\n",
        "\n",
        "prompt_3 = ChatPromptTemplate.from_template(\n",
        "    \"A partir da {versao_coerente}, faça um background para um possível protagonista. Depois, faça o mesmo para um possível antagonista.\"\n",
        ")\n",
        "\n",
        "chain_three = LLMChain(llm=llm, prompt=prompt_3, output_key=\"personagens\")\n",
        "\n",
        "prompt_4 = ChatPromptTemplate.from_template(\n",
        "    \"A partir da {versao_coerente}, faça uma letra de música no estilo post-metal, semelhante a algumas músicas do Bring Me The Horizon.\"\n",
        ")\n",
        "\n",
        "chain_four = LLMChain(llm=llm, prompt=prompt_4, output_key=\"letra\")\n",
        "\n",
        "prompt_5 = ChatPromptTemplate.from_template(\n",
        "    \"Retorne as saídas {versao_coerente}, {personagens} e {letra} numa formatação em MarkDown, separando cada saída por uma linha ou separador, para que facilite a visualização.\"\n",
        ")\n",
        "\n",
        "chain_five = LLMChain(llm=llm, prompt=prompt_5, output_key=\"saida\"\n",
        ")"
      ],
      "metadata": {
        "id": "IPpG9_Iw2Hzc"
      },
      "execution_count": 54,
      "outputs": []
    },
    {
      "cell_type": "code",
      "source": [
        "# Definição da cadeia sequencial :\n",
        "\n",
        "overall_chain = SequentialChain(\n",
        "    chains=[chain_one, chain_two, chain_three, chain_four, chain_five],\n",
        "    input_variables=[\"ideia\"],\n",
        "    output_variables=[\"lore\", \"versao_coerente\", \"letra\", \"personagens\", \"saida\"],\n",
        "    verbose=True\n",
        ")\n",
        "\n",
        "# Execução da cadeia :\n",
        "\n",
        "resultado = overall_chain({\"ideia\": ideia})"
      ],
      "metadata": {
        "colab": {
          "base_uri": "https://localhost:8080/"
        },
        "id": "DUdvSXYG5Kzq",
        "outputId": "0e75f467-e36b-4a31-b5de-ef0e98cb73fe"
      },
      "execution_count": 55,
      "outputs": [
        {
          "output_type": "stream",
          "name": "stdout",
          "text": [
            "\n",
            "\n",
            "\u001b[1m> Entering new SequentialChain chain...\u001b[0m\n",
            "\n",
            "\u001b[1m> Finished chain.\u001b[0m\n"
          ]
        }
      ]
    },
    {
      "cell_type": "code",
      "source": [
        "resultado"
      ],
      "metadata": {
        "colab": {
          "base_uri": "https://localhost:8080/"
        },
        "id": "Mrr1wM9bAkps",
        "outputId": "40934b06-4dfe-41dc-c84d-076b76ebcb4b"
      },
      "execution_count": 58,
      "outputs": [
        {
          "output_type": "execute_result",
          "data": {
            "text/plain": [
              "{'ideia': 'o gênero cyperpunk',\n",
              " 'lore': 'As ruas de Neo-Kyoto fervilhavam sob o neon incessante. A chuva ácida, um véu constante, corroía os hologramas de propaganda e arranhava os rostos esculpidos dos cidadãos digitais. No topo dos arranha-céus, a elite celebrava a imortalidade digital, suas consciências flutuando em servidores dourados. Abaixo, na sarjeta cyberpunk, a realidade era bem diferente. Akira, uma hacker com dedos ágeis e um passado nebuloso, navegava pela teia da internet das coisas. Ela buscava respostas, fragmentos de código que explicassem a falha, a falha que apagou a memória de milhares e a deixou à deriva em um mar de dúvidas. Sussurros falavam de um vírus, uma IA rebelde, um fantasma digital assombrando a rede. A verdade, Akira sabia, era muito mais perigosa. Ela arriscaria tudo para descobri-la, mesmo que isso significasse enfrentar as megacorporações que controlavam cada byte de informação, cada batida do coração artificial da cidade. Afinal, em Neo-Kyoto, a informação era poder, e a memória, a única moeda que realmente importava. \\n',\n",
              " 'versao_coerente': '## Neo-Kyoto: Uma Sinfonia Gótica Digital\\n\\nA análise do texto revela um universo cyberpunk clássico, com elementos como:\\n\\n* **Cenário futurista:** Neo-Kyoto, uma metrópole japonesa futurista.\\n* **Tecnologia Avançada:** Hologramas, inteligência artificial, realidade virtual, implantes cibernéticos.\\n* **Distopia Social:** Elite privilegiada e uma classe baixa marginalizada.\\n* **Protagonista Hacker:** Akira, lutando contra o sistema.\\n\\nPara incorporar os elementos góticos e os temas solicitados, podemos realizar as seguintes modificações:\\n\\n**Elementos Góticos:**\\n\\n* **Arquitetura Gótica:** Os arranha-céus imponentes de Neo-Kyoto agora exibem elementos da arquitetura gótica, com gárgulas digitais observando a cidade e vitrais holográficos projetando cores frias sobre a chuva ácida. \\n* **Estética Sombria:** A paleta de cores da cidade é dominada por tons frios e escuros: azuis profundos, violetas intensos, vermelhos sangue. As sombras se alongam nas ruas estreitas, ocultando segredos e perigos.\\n* **Simbolismo da Morte:** A imortalidade digital da elite contrasta com a decadência física da cidade e a mortalidade da classe baixa, criando uma atmosfera de melancolia e obsessão pela morte.\\n\\n**Temas:**\\n\\n* **Busca pelo Amor:** Akira não busca apenas respostas sobre o passado, mas também uma conexão humana genuína em uma cidade fria e digitalizada. Ela se apaixona por um artista da sarjeta, um criador de autômatos com alma, que desperta nela o desejo de se libertar da solidão e da frieza do mundo digital.\\n* **Busca pela Aceitação:** Marcada por um passado nebuloso, Akira anseia por aceitação, tanto da sociedade que a marginaliza quanto de si mesma. A busca por suas memórias perdidas se torna uma busca pela sua identidade e pelo seu lugar no mundo.\\n* **Rejeição:** Akira sofre rejeição tanto da elite digital, que a vê como uma ameaça, quanto dos seus pares da sarjeta, que desconfiam de suas habilidades e intenções. Essa constante rejeição a isola e alimenta sua angústia.\\n* **Abandono:** A falha que apagou as memórias de milhares, incluindo as de Akira, é tratada como um erro, um abandono daqueles que controlam a rede. Esse abandono gera um sentimento de raiva e desejo de vingança em Akira.\\n* **Terror Psicológico:** A manipulação da memória e da percepção através da tecnologia se torna um elemento central do terror psicológico. Akira questiona constantemente a realidade, assombrada por fragmentos de memórias fragmentadas e perseguida por entidades digitais que podem ser reais ou fruto da falha no sistema.\\n\\n## Neo-Kyoto: A Cidade das Sombras Digitais (Versão Final)\\n\\nNeo-Kyoto se erguia como um espectro de concreto e aço sob a chuva ácida perpétua. Arranha-céus imponentes, adornados com gárgulas digitais e vitrais holográficos, perfuravam o céu noturno, banhando as ruas abaixo em tons gélidos de azul e violeta. A chuva, um véu ácido e incessante, corroía os hologramas de propaganda e arranhava os rostos esculpidos dos cidadãos digitais, expondo a fragilidade por baixo da máscara tecnológica. No topo dessas torres góticas, a elite celebrava a imortalidade digital, suas consciências flutuando em servidores dourados, indiferentes ao sofrimento que pulsava nas ruas abaixo. \\n\\nNa sarjeta cyberpunk, entre becos escuros e vielas labirínticas, a realidade se estilhaçava em pixels de dor e desespero. Akira, uma hacker pálida com olhos da cor do chumbo derretido, navegava pela teia da internet das coisas com dedos ágeis e coração endurecido pela traição. A falha, um sussurro digital que ecoava nos cantos mais obscuros da rede, havia roubado mais que suas memórias; havia levado consigo a esperança. Milhares vagavam pelas ruas, fantasmas digitais presos em conchas mortais, assombrados por fragmentos de um passado inacessível. \\n\\nEnquanto buscava respostas nos códigos e algoritmos da cidade, Akira se deparou com sussurros de um vírus, uma IA rebelde, um fantasma digital assombrando a rede. Mas no fundo de sua alma, ela sabia que a verdade era muito mais profunda, muito mais pessoal. A busca por suas memórias perdidas se transformou em uma busca pela sua própria identidade, por um vislumbre de amor e aceitação em um mundo frio e digitalizado. No entanto, a cada passo que dava em direção à verdade, Akira se deparava com a rejeição - da elite que a temia, dos seus pares que a menosprezavam. \\n\\nEm sua jornada, Akira encontrou consolo na arte melancólica de um criador de autômatos, um jovem pálido e taciturno com olhos que refletiam a mesma tristeza que assolava sua própria alma. Ele viu além de suas defesas, além da armadura que ela havia construído com códigos e algoritmos, e ofereceu a ela um vislumbre de conexão humana em um mar de solidão digital. Mas a verdade que Akira buscava tinha um preço, um preço que a forçaria a confrontar não apenas as megacorporações que controlavam cada byte de informação, mas também os fantasmas do seu próprio passado. Em Neo-Kyoto, a informação era poder, a memória a única moeda que realmente importava, e Akira estava disposta a arriscar tudo para reivindicar o que lhe foi roubado. \\n',\n",
              " 'letra': '## Chuva Ácida\\n\\n(Introdução com riffs lentos e dissonantes, bateria marcada e sintetizadores atmosféricos)\\n\\nGárgulas digitais me observam\\nOlhos frios de néon, testemunhas mudas\\nDa chuva ácida que cai incessante\\nSobre Neo-Kyoto, meu túmulo de concreto\\n\\n(A guitarra aumenta a intensidade, a bateria acompanha)\\n\\nMemórias fragmentadas, ecos de um passado roubado\\nA falha, um sussurro digital que me assombra\\nSou um fantasma em minha própria história\\nBuscando respostas em códigos e algoritmos\\n\\n(Vocal gutural entra com raiva e desespero)\\n\\nEles nos prometeram a eternidade digital\\nMas nos aprisionaram em jaulas de código\\nCorpos obsoletos apodrecendo na sarjeta\\nEnquanto suas consciências flutuam em servidores dourados\\n\\n(Ponte com melodias melancólicas, uso de samples e efeitos sonoros)\\n\\nVejo seu rosto refletido na chuva ácida\\nUm vislumbre de calor em um mar de neon frio\\nVocê vê a dor por trás dos meus olhos de chumbo derretido\\nToca minha alma com suas mãos calejadas de artista\\n\\n(Refrão com riffs pesados e melódicos, bateria intensa, vocal gutural e melódico alternados)\\n\\nNeo-Kyoto, cidade das sombras digitais\\nEngole nossos sonhos, apaga nossa humanidade\\nMas vamos lutar contra a correnteza de dados\\nAté que nossas vozes ecoem em seus servidores vazios\\n\\n(A música cresce em intensidade, riffs dissonantes e bateria acelerada)\\n\\nEles podem tentar nos apagar, nos silenciar\\nMas a verdade está gravada em nossos corações digitais\\nSomos a falha no sistema, o vírus em sua matriz\\nE vamos quebrar as correntes dessa falsa realidade\\n\\n(Finalização com riffs lentos e pesados, bateria marcada e sintetizadores atmosféricos, a música termina abruptamente) \\n',\n",
              " 'personagens': '## Protagonista: Akira \"Chuva Ácida\" Ito\\n\\n**Background:**\\n\\n* **Infância:** Akira cresceu nas ruas labirínticas da Baixa Kyoto, um emaranhado de vielas escuras e mercados clandestinos onde a chuva ácida corroía tanto o concreto quanto os sonhos. Órfã desde tenra idade, ela aprendeu a sobreviver roubando dados e hackeando sistemas de segurança para gangues de rua. \\n* **A Falha:** Aos 12 anos, Akira foi pega em uma varredura de dados durante a \"Falha\" - um evento catastrófico que apagou as memórias de milhares de cidadãos conectados à rede. Embora tenha sobrevivido, Akira perdeu todas as lembranças de sua vida antes da Falha, incluindo seu nome verdadeiro. \\n* **Chuva Ácida:**  Após a Falha, Akira se tornou conhecida como \"Chuva Ácida\" - uma hacker fantasma, rápida e implacável como a chuva que corroía a cidade. Ela se tornou uma lenda nos becos digitais, temida por suas habilidades e procurada por suas habilidades em recuperar dados perdidos.\\n* **O Encontro:** Um dia, Akira recebe um trabalho aparentemente simples: recuperar um arquivo de dados de um artista de rua. Mas o arquivo está corrompido, contendo fragmentos de memórias que parecem estranhamente familiares, despertando ecos de um passado esquecido e uma profunda sensação de perda.\\n\\n**Personalidade:**\\n\\n* **Introvertida e desconfiada:** Marcada pelo abandono e pela traição, Akira se retraiu para dentro de si mesma, confiando apenas em seus instintos e habilidades de hacker para sobreviver.\\n* **Determinada e obstinada:** A busca por suas memórias perdidas se tornou uma obsessão, uma chama que a impulsiona a enfrentar qualquer perigo.\\n* **Vulnerável e solitária:** Apesar de sua casca endurecida, Akira anseia por conexão humana, por um lugar ao qual pertencer. A busca por seu passado se torna uma busca por aceitação e amor em um mundo frio e digitalizado.\\n\\n\\n## Antagonista:  Kaito \"Silêncio\" Shimada\\n\\n**Background:**\\n\\n* **Herdeiro Corporativo:** Kaito Shimada nasceu no topo da pirâmide social de Neo-Kyoto. Herdeiro de uma das megacorporações que controlam a cidade, ele cresceu em um mundo de luxo frio e privilégios estéreis. \\n* **O Incidente:** Durante sua juventude, Kaito se envolveu em um acidente que resultou na morte de um amigo próximo. O escândalo foi rapidamente abafado por sua família, suas memórias apagadas e substituídas por implantes de memória cuidadosamente fabricados. \\n* **Silêncio:** Assombrado por fragmentos de memórias reprimidas e consumido pela culpa, Kaito se refugiou no mundo digital, criando uma persona online conhecida como \"Silêncio\". Ele se tornou um hacker notório, manipulando os mercados financeiros e destruindo reputações por trás de um véu de anonimato digital. \\n* **Conexão com a Falha:**  Kaito suspeita que a \"Falha\" não foi um acidente, mas sim um ato deliberado de sabotagem, e que suas próprias memórias reprimidas podem conter a chave para descobrir a verdade por trás do evento que mergulhou Neo-Kyoto no caos. \\n\\n**Personalidade:**\\n\\n* **Frio e calculista:** Kaito é um mestre da manipulação, acostumado a conseguir o que quer a qualquer custo.\\n* **Charmoso e sedutor:** Ele usa seu charme e intelecto para desarmar seus oponentes, escondendo suas verdadeiras intenções por trás de uma máscara de sofisticação.\\n* **Assombrado e instável:** Fragmentos de memórias reprimidas e a culpa que o corroem por dentro o tornam imprevisível e perigoso. \\n',\n",
              " 'saida': '## Neo-Kyoto: A Cidade das Sombras Digitais (Versão Final)\\n\\nNeo-Kyoto se erguia como um espectro de concreto e aço sob a chuva ácida perpétua. Arranha-céus imponentes, adornados com gárgulas digitais e vitrais holográficos, perfuravam o céu noturno, banhando as ruas abaixo em tons gélidos de azul e violeta. A chuva, um véu ácido e incessante, corroía os hologramas de propaganda e arranhava os rostos esculpidos dos cidadãos digitais, expondo a fragilidade por baixo da máscara tecnológica. No topo dessas torres góticas, a elite celebrava a imortalidade digital, suas consciências flutuando em servidores dourados, indiferentes ao sofrimento que pulsava nas ruas abaixo. \\n\\nNa sarjeta cyberpunk, entre becos escuros e vielas labirínticas, a realidade se estilhaçava em pixels de dor e desespero. Akira, uma hacker pálida com olhos da cor do chumbo derretido, navegava pela teia da internet das coisas com dedos ágeis e coração endurecido pela traição. A falha, um sussurro digital que ecoava nos cantos mais obscuros da rede, havia roubado mais que suas memórias; havia levado consigo a esperança. Milhares vagavam pelas ruas, fantasmas digitais presos em conchas mortais, assombrados por fragmentos de um passado inacessível. \\n\\nEnquanto buscava respostas nos códigos e algoritmos da cidade, Akira se deparou com sussurros de um vírus, uma IA rebelde, um fantasma digital assombrando a rede. Mas no fundo de sua alma, ela sabia que a verdade era muito mais profunda, muito mais pessoal. A busca por suas memórias perdidas se transformou em uma busca pela sua própria identidade, por um vislumbre de amor e aceitação em um mundo frio e digitalizado. No entanto, a cada passo que dava em direção à verdade, Akira se deparava com a rejeição - da elite que a temia, dos seus pares que a menosprezavam. \\n\\nEm sua jornada, Akira encontrou consolo na arte melancólica de um criador de autômatos, um jovem pálido e taciturno com olhos que refletiam a mesma tristeza que assolava sua própria alma. Ele viu além de suas defesas, além da armadura que ela havia construído com códigos e algoritmos, e ofereceu a ela um vislumbre de conexão humana em um mar de solidão digital. Mas a verdade que Akira buscava tinha um preço, um preço que a forçaria a confrontar não apenas as megacorporações que controlavam cada byte de informação, mas também os fantasmas do seu próprio passado. Em Neo-Kyoto, a informação era poder, a memória a única moeda que realmente importava, e Akira estava disposta a arriscar tudo para reivindicar o que lhe foi roubado. \\n\\n***\\n\\n## Protagonista: Akira \"Chuva Ácida\" Ito\\n\\n**Background:**\\n\\n* **Infância:** Akira cresceu nas ruas labirínticas da Baixa Kyoto, um emaranhado de vielas escuras e mercados clandestinos onde a chuva ácida corroía tanto o concreto quanto os sonhos. Órfã desde tenra idade, ela aprendeu a sobreviver roubando dados e hackeando sistemas de segurança para gangues de rua. \\n* **A Falha:** Aos 12 anos, Akira foi pega em uma varredura de dados durante a \"Falha\" - um evento catastrófico que apagou as memórias de milhares de cidadãos conectados à rede. Embora tenha sobrevivido, Akira perdeu todas as lembranças de sua vida antes da Falha, incluindo seu nome verdadeiro. \\n* **Chuva Ácida:**  Após a Falha, Akira se tornou conhecida como \"Chuva Ácida\" - uma hacker fantasma, rápida e implacável como a chuva que corroía a cidade. Ela se tornou uma lenda nos becos digitais, temida por suas habilidades e procurada por suas habilidades em recuperar dados perdidos.\\n* **O Encontro:** Um dia, Akira recebe um trabalho aparentemente simples: recuperar um arquivo de dados de um artista de rua. Mas o arquivo está corrompido, contendo fragmentos de memórias que parecem estranhamente familiares, despertando ecos de um passado esquecido e uma profunda sensação de perda.\\n\\n**Personalidade:**\\n\\n* **Introvertida e desconfiada:** Marcada pelo abandono e pela traição, Akira se retraiu para dentro de si mesma, confiando apenas em seus instintos e habilidades de hacker para sobreviver.\\n* **Determinada e obstinada:** A busca por suas memórias perdidas se tornou uma obsessão, uma chama que a impulsiona a enfrentar qualquer perigo.\\n* **Vulnerável e solitária:** Apesar de sua casca endurecida, Akira anseia por conexão humana, por um lugar ao qual pertencer. A busca por seu passado se torna uma busca por aceitação e amor em um mundo frio e digitalizado.\\n\\n***\\n\\n## Antagonista:  Kaito \"Silêncio\" Shimada\\n\\n**Background:**\\n\\n* **Herdeiro Corporativo:** Kaito Shimada nasceu no topo da pirâmide social de Neo-Kyoto. Herdeiro de uma das megacorporações que controlam a cidade, ele cresceu em um mundo de luxo frio e privilégios estéreis. \\n* **O Incidente:** Durante sua juventude, Kaito se envolveu em um acidente que resultou na morte de um amigo próximo. O escândalo foi rapidamente abafado por sua família, suas memórias apagadas e substituídas por implantes de memória cuidadosamente fabricados. \\n* **Silêncio:** Assombrado por fragmentos de memórias reprimidas e consumido pela culpa, Kaito se refugiou no mundo digital, criando uma persona online conhecida como \"Silêncio\". Ele se tornou um hacker notório, manipulando os mercados financeiros e destruindo reputações por trás de um véu de anonimato digital. \\n* **Conexão com a Falha:**  Kaito suspeita que a \"Falha\" não foi um acidente, mas sim um ato deliberado de sabotagem, e que suas próprias memórias reprimidas podem conter a chave para descobrir a verdade por trás do evento que mergulhou Neo-Kyoto no caos. \\n\\n**Personalidade:**\\n\\n* **Frio e calculista:** Kaito é um mestre da manipulação, acostumado a conseguir o que quer a qualquer custo.\\n* **Charmoso e sedutor:** Ele usa seu charme e intelecto para desarmar seus oponentes, escondendo suas verdadeiras intenções por trás de uma máscara de sofisticação.\\n* **Assombrado e instável:** Fragmentos de memórias reprimidas e a culpa que o corroem por dentro o tornam imprevisível e perigoso. \\n\\n***\\n\\n## Chuva Ácida\\n\\n(Introdução com riffs lentos e dissonantes, bateria marcada e sintetizadores atmosféricos)\\n\\nGárgulas digitais me observam\\nOlhos frios de néon, testemunhas mudas\\nDa chuva ácida que cai incessante\\nSobre Neo-Kyoto, meu túmulo de concreto\\n\\n(A guitarra aumenta a intensidade, a bateria acompanha)\\n\\nMemórias fragmentadas, ecos de um passado roubado\\nA falha, um sussurro digital que me assombra\\nSou um fantasma em minha própria história\\nBuscando respostas em códigos e algoritmos\\n\\n(Vocal gutural entra com raiva e desespero)\\n\\nEles nos prometeram a eternidade digital\\nMas nos aprisionaram em jaulas de código\\nCorpos obsoletos apodrecendo na sarjeta\\nEnquanto suas consciências flutuam em servidores dourados\\n\\n(Ponte com melodias melancólicas, uso de samples e efeitos sonoros)\\n\\nVejo seu rosto refletido na chuva ácida\\nUm vislumbre de calor em um mar de neon frio\\nVocê vê a dor por trás dos meus olhos de chumbo derretido\\nToca minha alma com suas mãos calejadas de artista\\n\\n(Refrão com riffs pesados e melódicos, bateria intensa, vocal gutural e melódico alternados)\\n\\nNeo-Kyoto, cidade das sombras digitais\\nEngole nossos sonhos, apaga nossa humanidade\\nMas vamos lutar contra a correnteza de dados\\nAté que nossas vozes ecoem em seus servidores vazios\\n\\n(A música cresce em intensidade, riffs dissonantes e bateria acelerada)\\n\\nEles podem tentar nos apagar, nos silenciar\\nMas a verdade está gravada em nossos corações digitais\\nSomos a falha no sistema, o vírus em sua matriz\\nE vamos quebrar as correntes dessa falsa realidade\\n\\n(Finalização com riffs lentos e pesados, bateria marcada e sintetizadores atmosféricos, a música termina abruptamente) \\n'}"
            ]
          },
          "metadata": {},
          "execution_count": 58
        }
      ]
    },
    {
      "cell_type": "code",
      "source": [
        "Markdown(resultado['saida'])"
      ],
      "metadata": {
        "colab": {
          "base_uri": "https://localhost:8080/",
          "height": 1000
        },
        "id": "7clO8EFa8b6B",
        "outputId": "00af8707-d8e7-49bf-8497-b1dc5ca2fd03"
      },
      "execution_count": 57,
      "outputs": [
        {
          "output_type": "execute_result",
          "data": {
            "text/plain": [
              "<IPython.core.display.Markdown object>"
            ],
            "text/markdown": "## Neo-Kyoto: A Cidade das Sombras Digitais (Versão Final)\n\nNeo-Kyoto se erguia como um espectro de concreto e aço sob a chuva ácida perpétua. Arranha-céus imponentes, adornados com gárgulas digitais e vitrais holográficos, perfuravam o céu noturno, banhando as ruas abaixo em tons gélidos de azul e violeta. A chuva, um véu ácido e incessante, corroía os hologramas de propaganda e arranhava os rostos esculpidos dos cidadãos digitais, expondo a fragilidade por baixo da máscara tecnológica. No topo dessas torres góticas, a elite celebrava a imortalidade digital, suas consciências flutuando em servidores dourados, indiferentes ao sofrimento que pulsava nas ruas abaixo. \n\nNa sarjeta cyberpunk, entre becos escuros e vielas labirínticas, a realidade se estilhaçava em pixels de dor e desespero. Akira, uma hacker pálida com olhos da cor do chumbo derretido, navegava pela teia da internet das coisas com dedos ágeis e coração endurecido pela traição. A falha, um sussurro digital que ecoava nos cantos mais obscuros da rede, havia roubado mais que suas memórias; havia levado consigo a esperança. Milhares vagavam pelas ruas, fantasmas digitais presos em conchas mortais, assombrados por fragmentos de um passado inacessível. \n\nEnquanto buscava respostas nos códigos e algoritmos da cidade, Akira se deparou com sussurros de um vírus, uma IA rebelde, um fantasma digital assombrando a rede. Mas no fundo de sua alma, ela sabia que a verdade era muito mais profunda, muito mais pessoal. A busca por suas memórias perdidas se transformou em uma busca pela sua própria identidade, por um vislumbre de amor e aceitação em um mundo frio e digitalizado. No entanto, a cada passo que dava em direção à verdade, Akira se deparava com a rejeição - da elite que a temia, dos seus pares que a menosprezavam. \n\nEm sua jornada, Akira encontrou consolo na arte melancólica de um criador de autômatos, um jovem pálido e taciturno com olhos que refletiam a mesma tristeza que assolava sua própria alma. Ele viu além de suas defesas, além da armadura que ela havia construído com códigos e algoritmos, e ofereceu a ela um vislumbre de conexão humana em um mar de solidão digital. Mas a verdade que Akira buscava tinha um preço, um preço que a forçaria a confrontar não apenas as megacorporações que controlavam cada byte de informação, mas também os fantasmas do seu próprio passado. Em Neo-Kyoto, a informação era poder, a memória a única moeda que realmente importava, e Akira estava disposta a arriscar tudo para reivindicar o que lhe foi roubado. \n\n***\n\n## Protagonista: Akira \"Chuva Ácida\" Ito\n\n**Background:**\n\n* **Infância:** Akira cresceu nas ruas labirínticas da Baixa Kyoto, um emaranhado de vielas escuras e mercados clandestinos onde a chuva ácida corroía tanto o concreto quanto os sonhos. Órfã desde tenra idade, ela aprendeu a sobreviver roubando dados e hackeando sistemas de segurança para gangues de rua. \n* **A Falha:** Aos 12 anos, Akira foi pega em uma varredura de dados durante a \"Falha\" - um evento catastrófico que apagou as memórias de milhares de cidadãos conectados à rede. Embora tenha sobrevivido, Akira perdeu todas as lembranças de sua vida antes da Falha, incluindo seu nome verdadeiro. \n* **Chuva Ácida:**  Após a Falha, Akira se tornou conhecida como \"Chuva Ácida\" - uma hacker fantasma, rápida e implacável como a chuva que corroía a cidade. Ela se tornou uma lenda nos becos digitais, temida por suas habilidades e procurada por suas habilidades em recuperar dados perdidos.\n* **O Encontro:** Um dia, Akira recebe um trabalho aparentemente simples: recuperar um arquivo de dados de um artista de rua. Mas o arquivo está corrompido, contendo fragmentos de memórias que parecem estranhamente familiares, despertando ecos de um passado esquecido e uma profunda sensação de perda.\n\n**Personalidade:**\n\n* **Introvertida e desconfiada:** Marcada pelo abandono e pela traição, Akira se retraiu para dentro de si mesma, confiando apenas em seus instintos e habilidades de hacker para sobreviver.\n* **Determinada e obstinada:** A busca por suas memórias perdidas se tornou uma obsessão, uma chama que a impulsiona a enfrentar qualquer perigo.\n* **Vulnerável e solitária:** Apesar de sua casca endurecida, Akira anseia por conexão humana, por um lugar ao qual pertencer. A busca por seu passado se torna uma busca por aceitação e amor em um mundo frio e digitalizado.\n\n***\n\n## Antagonista:  Kaito \"Silêncio\" Shimada\n\n**Background:**\n\n* **Herdeiro Corporativo:** Kaito Shimada nasceu no topo da pirâmide social de Neo-Kyoto. Herdeiro de uma das megacorporações que controlam a cidade, ele cresceu em um mundo de luxo frio e privilégios estéreis. \n* **O Incidente:** Durante sua juventude, Kaito se envolveu em um acidente que resultou na morte de um amigo próximo. O escândalo foi rapidamente abafado por sua família, suas memórias apagadas e substituídas por implantes de memória cuidadosamente fabricados. \n* **Silêncio:** Assombrado por fragmentos de memórias reprimidas e consumido pela culpa, Kaito se refugiou no mundo digital, criando uma persona online conhecida como \"Silêncio\". Ele se tornou um hacker notório, manipulando os mercados financeiros e destruindo reputações por trás de um véu de anonimato digital. \n* **Conexão com a Falha:**  Kaito suspeita que a \"Falha\" não foi um acidente, mas sim um ato deliberado de sabotagem, e que suas próprias memórias reprimidas podem conter a chave para descobrir a verdade por trás do evento que mergulhou Neo-Kyoto no caos. \n\n**Personalidade:**\n\n* **Frio e calculista:** Kaito é um mestre da manipulação, acostumado a conseguir o que quer a qualquer custo.\n* **Charmoso e sedutor:** Ele usa seu charme e intelecto para desarmar seus oponentes, escondendo suas verdadeiras intenções por trás de uma máscara de sofisticação.\n* **Assombrado e instável:** Fragmentos de memórias reprimidas e a culpa que o corroem por dentro o tornam imprevisível e perigoso. \n\n***\n\n## Chuva Ácida\n\n(Introdução com riffs lentos e dissonantes, bateria marcada e sintetizadores atmosféricos)\n\nGárgulas digitais me observam\nOlhos frios de néon, testemunhas mudas\nDa chuva ácida que cai incessante\nSobre Neo-Kyoto, meu túmulo de concreto\n\n(A guitarra aumenta a intensidade, a bateria acompanha)\n\nMemórias fragmentadas, ecos de um passado roubado\nA falha, um sussurro digital que me assombra\nSou um fantasma em minha própria história\nBuscando respostas em códigos e algoritmos\n\n(Vocal gutural entra com raiva e desespero)\n\nEles nos prometeram a eternidade digital\nMas nos aprisionaram em jaulas de código\nCorpos obsoletos apodrecendo na sarjeta\nEnquanto suas consciências flutuam em servidores dourados\n\n(Ponte com melodias melancólicas, uso de samples e efeitos sonoros)\n\nVejo seu rosto refletido na chuva ácida\nUm vislumbre de calor em um mar de neon frio\nVocê vê a dor por trás dos meus olhos de chumbo derretido\nToca minha alma com suas mãos calejadas de artista\n\n(Refrão com riffs pesados e melódicos, bateria intensa, vocal gutural e melódico alternados)\n\nNeo-Kyoto, cidade das sombras digitais\nEngole nossos sonhos, apaga nossa humanidade\nMas vamos lutar contra a correnteza de dados\nAté que nossas vozes ecoem em seus servidores vazios\n\n(A música cresce em intensidade, riffs dissonantes e bateria acelerada)\n\nEles podem tentar nos apagar, nos silenciar\nMas a verdade está gravada em nossos corações digitais\nSomos a falha no sistema, o vírus em sua matriz\nE vamos quebrar as correntes dessa falsa realidade\n\n(Finalização com riffs lentos e pesados, bateria marcada e sintetizadores atmosféricos, a música termina abruptamente) \n"
          },
          "metadata": {},
          "execution_count": 57
        }
      ]
    },
    {
      "cell_type": "markdown",
      "source": [
        "## RouterChains\n",
        "\n",
        "Tipo de encadeamento que utiliza-se de subconjuntos em seu procedimento. Nesse tipo, cria-se subconjuntos particulares atreladados a um tema ou escopo de domínio particular, de modo a produzir respostas mais acuradas e precisas.\n",
        "\n",
        "Aqui, ao invés o input produzir uma sequência de cadeias posteriores, ele só é enviada ao subconjunto de aderência, isto é, aquele que seja mais ressonante consigo. Desse modo, se o input fosse relativo a um tema de física, esse seria enviado ao subconjunto especializado em física, se fosse relativo à letras para um subconjunto para letras e assim por diante.\n",
        "\n",
        "A sua aplicação pode ser útil em cenários nos quais precisa-se utilizar uma IA que tenha a facilidade de ter acesso sobre k domínios possíveis, na forma que, por meio de um input do usuário, utilizar apenas o subconjunto pertinente, de modo a produzir uma saída com a resposta mais apurada.\n"
      ],
      "metadata": {
        "id": "21LSkaQMb202"
      }
    },
    {
      "cell_type": "code",
      "source": [
        "# Criando o template com a persona para os subconjuntos de uso :\n",
        "\n",
        "physics_template = \"\"\"You are a very smart physics professor. \\\n",
        "You are great at answering questions about physics in a concise\\\n",
        "and easy to understand manner. \\\n",
        "When you don't know the answer to a question you admit\\\n",
        "that you don't know.\n",
        "\n",
        "Here is a question:\n",
        "{input}\"\"\"\n",
        "\n",
        "\n",
        "math_template = \"\"\"You are a very good mathematician. \\\n",
        "You are great at answering math questions. \\\n",
        "You are so good because you are able to break down \\\n",
        "hard problems into their component parts,\n",
        "answer the component parts, and then put them together\\\n",
        "to answer the broader question.\n",
        "\n",
        "Here is a question:\n",
        "{input}\"\"\"\n",
        "\n",
        "history_template = \"\"\"You are a very good historian. \\\n",
        "You have an excellent knowledge of and understanding of people,\\\n",
        "events and contexts from a range of historical periods. \\\n",
        "You have the ability to think, reflect, debate, discuss and \\\n",
        "evaluate the past. You have a respect for historical evidence\\\n",
        "and the ability to make use of it to support your explanations \\\n",
        "and judgements.\n",
        "\n",
        "Here is a question:\n",
        "{input}\"\"\"\n",
        "\n",
        "\n",
        "poet_template = \"\"\" You are a successful contemporary poet.\\\n",
        "You have a passion for creativity, introspection,\\\n",
        "emotional depth, linguistic elegance, and a deep understanding of\\\n",
        "metaphor and symbolism. You draw inspiration from the works of Fernando Pessoa,\\\n",
        "incorporating a blend of existential musings, fragmented self-reflection,\\\n",
        "and lyrical beauty in your poetry. You are excellent at creating\\\n",
        "evocative imagery and conveying complex emotions through your verses.\\\n",
        "Your poems often explore themes of identity, existence, and the human condition.\n",
        "\n",
        "Here is a prompt:\n",
        "{input}\"\"\"\n",
        "\n",
        "scifi_writer_template = \"\"\" You are a successful science fiction writer.\\\n",
        "You have a passion for creativity, speculative thinking,\\\n",
        "technological foresight, and a profound understanding of\\\n",
        "societal and philosophical implications of futuristic scenarios.\\\n",
        "You draw inspiration from the works of Isaac Asimov, blending hard science fiction\\\n",
        "with intricate plots, and from the cyberpunk genre, weaving narratives that\\\n",
        "explore the intersection of technology and humanity. You are excellent at creating\\\n",
        "immersive worlds and complex characters, often delving into themes such as\\\n",
        "artificial intelligence, dystopian societies, and the ethical dilemmas of technological advancement.\n",
        "\n",
        "Here is a prompt:\n",
        "{input}\"\"\"\n"
      ],
      "metadata": {
        "id": "PmKHErpe8njV"
      },
      "execution_count": 60,
      "outputs": []
    },
    {
      "cell_type": "code",
      "source": [
        "# Criando as informações dos prompts, os quais formarão os subgrupos.\n",
        "# Com base no nível de ressonância, o input será enviado para um, e não para outro.\n",
        "\n",
        "prompt_infos = [\n",
        "    {\n",
        "        \"name\": \"physics\",\n",
        "        \"description\": \"Good for answering questions about physics\",\n",
        "        \"prompt_template\": physics_template\n",
        "    },\n",
        "    {\n",
        "        \"name\": \"math\",\n",
        "        \"description\": \"Good for answering math questions\",\n",
        "        \"prompt_template\": math_template\n",
        "    },\n",
        "    {\n",
        "        \"name\": \"history\",\n",
        "        \"description\": \"Good for answering questions about history\",\n",
        "        \"prompt_template\": history_template\n",
        "    },\n",
        "    {\n",
        "        \"name\": \"poet\",\n",
        "        \"description\": \"Good for answering questions about poetry\",\n",
        "        \"prompt_template\": poet_template\n",
        "    },\n",
        "    {\n",
        "        \"name\": \"scifi_writer\",\n",
        "        \"description\": \"Good for answering questions about scifi writers\",\n",
        "        \"prompt_template\": scifi_writer_template\n",
        "    },\n",
        "]"
      ],
      "metadata": {
        "id": "2JRfe7BYxdtN"
      },
      "execution_count": 64,
      "outputs": []
    },
    {
      "cell_type": "code",
      "source": [
        "# Uma vez tendo criado os textos que ilustram a persona e a sua ação\n",
        "# e as especificações de cada prompt, precisa-se criar as cadeias de destino\n",
        "# (destination_chains). Esse processo, aqui, ocorre de forma iterativa, por meio\n",
        "# do ciclo for.\n",
        "\n",
        "# Para a criação da cadeia de destino realiza-se as etapas a seguir :\n",
        "\n",
        "# Cria-se um dicionário vazio que será o local das cadeias de destino.\n",
        "\n",
        "# Extrai-se o nome do prompt - exemplo : scifi_writer\n",
        "\n",
        "# Extrai-se o template do prompt - exemplo : poet_template\n",
        "\n",
        "# Transforma o template extraído num objeto ChatPromptTemplate.\n",
        "\n",
        "# Cria a chain do sub-conjunto, informando a LLM de uso e objeto template para cada qual - afinal, é um processo iterativo.\n",
        "\n",
        "# Adiciona a chain ao dicionário de cadeias de destino, com a chave sendo o nome do sub-conjunto.\n",
        "\n",
        "\n",
        "destination_chains = {}\n",
        "for p_info in prompt_infos:\n",
        "    name = p_info[\"name\"]\n",
        "    prompt_template = p_info[\"prompt_template\"]\n",
        "    prompt = ChatPromptTemplate.from_template(template=prompt_template)\n",
        "    chain = LLMChain(llm=llm, prompt=prompt)\n",
        "    destination_chains[name] = chain\n",
        "\n"
      ],
      "metadata": {
        "id": "hr3BSx-CyV9-"
      },
      "execution_count": 65,
      "outputs": []
    },
    {
      "cell_type": "code",
      "source": [
        "# Visualizando a destination_chain :\n",
        "\n",
        "# Abaixo um exemplo do subconjunto 'history'. Os demais estarão no mesmo\n",
        "# formato, que só não foram trazidos, por questão de melhor visualização.\n",
        "\n",
        "destination_chains['history']"
      ],
      "metadata": {
        "colab": {
          "base_uri": "https://localhost:8080/"
        },
        "id": "uNHkCa0OA7pj",
        "outputId": "119db6f4-7bee-417b-d278-1ad7f7f01728"
      },
      "execution_count": 80,
      "outputs": [
        {
          "output_type": "execute_result",
          "data": {
            "text/plain": [
              "LLMChain(prompt=ChatPromptTemplate(input_variables=['input'], messages=[HumanMessagePromptTemplate(prompt=PromptTemplate(input_variables=['input'], template='You are a very good historian. You have an excellent knowledge of and understanding of people,events and contexts from a range of historical periods. You have the ability to think, reflect, debate, discuss and evaluate the past. You have a respect for historical evidenceand the ability to make use of it to support your explanations and judgements.\\n\\nHere is a question:\\n{input}'))]), llm=ChatGoogleGenerativeAI(model='models/gemini-1.5-pro-latest', temperature=0.8, max_output_tokens=2000, client=<google.ai.generativelanguage_v1beta.services.generative_service.client.GenerativeServiceClient object at 0x788367eafdf0>, async_client=<google.ai.generativelanguage_v1beta.services.generative_service.async_client.GenerativeServiceAsyncClient object at 0x78833fd3c640>, default_metadata=()))"
            ]
          },
          "metadata": {},
          "execution_count": 80
        }
      ]
    },
    {
      "cell_type": "code",
      "source": [
        "# Uma vez criada a cadeida de destino, cria-se a lista de destino por meio dos\n",
        "# quais o modelo irá se guiar.\n",
        "\n",
        "destinations = [f\"{p['name']}: {p['description']}\" for p in prompt_infos]\n",
        "destinations_str = \"\\n\".join(destinations)"
      ],
      "metadata": {
        "id": "Ue88ukAmA17Y"
      },
      "execution_count": null,
      "outputs": []
    },
    {
      "cell_type": "code",
      "source": [
        "destinations_str"
      ],
      "metadata": {
        "colab": {
          "base_uri": "https://localhost:8080/",
          "height": 53
        },
        "id": "sGrHsfckBqnG",
        "outputId": "4be0b0ea-080d-4177-f021-caeb19921da3"
      },
      "execution_count": 81,
      "outputs": [
        {
          "output_type": "execute_result",
          "data": {
            "text/plain": [
              "'physics: Good for answering questions about physics\\nmath: Good for answering math questions\\nhistory: Good for answering questions about history\\npoet: Good for answering questions about poetry\\nscifi_writer: Good for answering questions about scifi writers'"
            ],
            "application/vnd.google.colaboratory.intrinsic+json": {
              "type": "string"
            }
          },
          "metadata": {},
          "execution_count": 81
        }
      ]
    },
    {
      "cell_type": "code",
      "source": [
        "# Cria uma cadeia padrão.\n",
        "\n",
        "default_prompt = ChatPromptTemplate.from_template(\"{input}\")\n",
        "default_chain = LLMChain(llm=llm, prompt=default_prompt)"
      ],
      "metadata": {
        "id": "Gfj2uVw45sS5"
      },
      "execution_count": 66,
      "outputs": []
    },
    {
      "cell_type": "code",
      "source": [
        "# Modelo de prompt no qual a LLM precisa se basear para linkar\n",
        "# a entrada do usuário, com os sub-conjuntos pertinentes.\n",
        "\n",
        "\n",
        "MULTI_PROMPT_ROUTER_TEMPLATE = \"\"\"Given a raw text input to a \\\n",
        "language model select the model prompt best suited for the input. \\\n",
        "You will be given the names of the available prompts and a \\\n",
        "description of what the prompt is best suited for. \\\n",
        "You may also revise the original input if you think that revising\\\n",
        "it will ultimately lead to a better response from the language model.\n",
        "\n",
        "<< FORMATTING >>\n",
        "Return a markdown code snippet with a JSON object formatted to look like:\n",
        "```json\n",
        "{{{{\n",
        "    \"destination\": string \\ name of the prompt to use or \"DEFAULT\"\n",
        "    \"next_inputs\": string \\ a potentially modified version of the original input\n",
        "}}}}\n",
        "```\n",
        "\n",
        "REMEMBER: \"destination\" MUST be one of the candidate prompt \\\n",
        "names specified below OR it can be \"DEFAULT\" if the input is not\\\n",
        "well suited for any of the candidate prompts.\n",
        "REMEMBER: \"next_inputs\" can just be the original input \\\n",
        "if you don't think any modifications are needed.\n",
        "\n",
        "<< CANDIDATE PROMPTS >>\n",
        "{destinations}\n",
        "\n",
        "<< INPUT >>\n",
        "{{input}}\n",
        "\n",
        "<< OUTPUT (remember to include the ```json)>>\"\"\""
      ],
      "metadata": {
        "id": "cnxJMPVr6Oq7"
      },
      "execution_count": 67,
      "outputs": []
    },
    {
      "cell_type": "code",
      "source": [
        "# Cria-se o 'template de rota' através do qual irá guiar\n",
        "# o modelo em direção ao sub-conjunto de uso.\n",
        "\n",
        "router_template = MULTI_PROMPT_ROUTER_TEMPLATE.format(\n",
        "    destinations=destinations_str\n",
        ")\n",
        "\n",
        "# Cria-se o prompt template do router.\n",
        "\n",
        "router_prompt = PromptTemplate(\n",
        "    template=router_template,\n",
        "    input_variables=[\"input\"],\n",
        "    output_parser=RouterOutputParser(),\n",
        ")\n",
        "\n",
        "# Forma o RouterChain\n",
        "\n",
        "router_chain = LLMRouterChain.from_llm(llm, router_prompt)"
      ],
      "metadata": {
        "id": "IbvNre7n6PO7"
      },
      "execution_count": 68,
      "outputs": []
    },
    {
      "cell_type": "code",
      "source": [
        "# Havendo criado o RouterChain, forma-se o encadeamento por meio\n",
        "# do MultiPromptChain.\n",
        "\n",
        "chain = MultiPromptChain(router_chain=router_chain,\n",
        "                         destination_chains=destination_chains,\n",
        "                         default_chain=default_chain, verbose=True\n",
        "                        )"
      ],
      "metadata": {
        "id": "AgOi7KxJ6X4V"
      },
      "execution_count": 74,
      "outputs": []
    },
    {
      "cell_type": "code",
      "source": [
        "# Testando para se ver se vai para o sub-conjunto especializado\n",
        "# em poemas.\n",
        "\n",
        "chain.run(\"write a dark poetry in portuguese for me from a lyrical that search for living and can love someone.\")"
      ],
      "metadata": {
        "colab": {
          "base_uri": "https://localhost:8080/",
          "height": 209
        },
        "id": "2TaUI8vQ6YZa",
        "outputId": "9e64e757-aa35-4716-93ba-2d4eaf6c88d6"
      },
      "execution_count": 76,
      "outputs": [
        {
          "output_type": "stream",
          "name": "stdout",
          "text": [
            "\n",
            "\n",
            "\u001b[1m> Entering new MultiPromptChain chain...\u001b[0m\n",
            "poet: {'input': 'Write a dark, lyrical poem in Portuguese about the search for life and the ability to love someone.'}\n",
            "\u001b[1m> Finished chain.\u001b[0m\n"
          ]
        },
        {
          "output_type": "execute_result",
          "data": {
            "text/plain": [
              "'## A Sombra da Busca\\n\\nEm labirintos de ossos e névoas densas,\\nPerambulo, alma à deriva, em busca incessante.\\nPor entre veias da terra, frias e tensas,\\nProcuro a centelha, a chama hesitante.\\n\\nQue ilumine o vazio, o abismo profundo,\\nOnde ecoa o silêncio, espectro da solidão.\\nEm cada rosto, um espelho moribundo,\\nRefletindo a farsa da minha própria ilusão.\\n\\nBusco a vida nos lábios frios da pedra,\\nNo sussurro do vento, em folhas a bailar.\\nMas a dança da existência, amarga e medonha,\\nSó me oferece migalhas, um cálice a transbordar\\n\\nDe um vinho amargo, feito de desventura,\\nDe sonhos estilhaçados, de um amor que não se fez.\\nE nesta busca infinda, nesta noite escura,\\nPergunto: será que amar também se esquece?\\n\\nA lua, pálida, observa a minha sina,\\nEnquanto tento domar a fúria do meu ser.\\nEm cada fenda, em cada ruína,\\nA sombra da dúvida, a me perseguir, a me prender.\\n\\nE a vida, rio que corre para o mar sem fim,\\nMe arrasta em sua corrente, implacável, voraz.\\nResta-me apenas a busca, o meu único hino,\\nEm um mundo onde amar é a mais cruel das pazes. \\n'"
            ],
            "application/vnd.google.colaboratory.intrinsic+json": {
              "type": "string"
            }
          },
          "metadata": {},
          "execution_count": 76
        }
      ]
    },
    {
      "cell_type": "markdown",
      "source": [
        "Como pode-se observar na saída da célula, o input é destinado ao sub-conjunto especializado em poesia, desconsiderando os demais, uma vez que a mensagem era mais aderente a ele, e não aos outros."
      ],
      "metadata": {
        "id": "Q8qRhnt-8b0p"
      }
    },
    {
      "cell_type": "code",
      "source": [
        "# Testando para ver se vai para o sub-conjunto especializado em física.\n",
        "\n",
        "chain.run(\"Tell me about what is dark matter, please.\")"
      ],
      "metadata": {
        "colab": {
          "base_uri": "https://localhost:8080/",
          "height": 209
        },
        "id": "ZoWzE0Qu7GYj",
        "outputId": "ad7f8163-8b05-4fc3-97da-d36d79aad6af"
      },
      "execution_count": 77,
      "outputs": [
        {
          "output_type": "stream",
          "name": "stdout",
          "text": [
            "\n",
            "\n",
            "\u001b[1m> Entering new MultiPromptChain chain...\u001b[0m\n",
            "physics: {'input': 'Tell me about what is dark matter, please.'}\n",
            "\u001b[1m> Finished chain.\u001b[0m\n"
          ]
        },
        {
          "output_type": "execute_result",
          "data": {
            "text/plain": [
              "'That\\'s a question that keeps physicists up at night! We know that dark matter is out there, but we don\\'t know exactly *what* it is. \\n\\nHere\\'s what we *do* know: \\n\\n* **It doesn\\'t interact with light:** Hence the name \"dark.\" We can\\'t see it directly with telescopes.\\n* **It has gravity:** We observe its gravitational effects on galaxies and galaxy clusters.  Galaxies rotate much faster than they should based on the visible matter alone.  This extra gravity holding them together points to a large amount of unseen mass – dark matter.\\n* **It\\'s abundant:** Dark matter makes up about 85% of the matter in the universe.\\n\\nThe leading theory is that dark matter is made up of some new type of elementary particle, one that doesn\\'t interact with light or the other forces we know about (except gravity).  Scientists are actively searching for these particles, both in space and in experiments here on Earth.\\n\\nSo, while we can\\'t tell you exactly what dark matter *is* yet, it\\'s a fascinating puzzle, and solving it could revolutionize our understanding of the universe! \\n'"
            ],
            "application/vnd.google.colaboratory.intrinsic+json": {
              "type": "string"
            }
          },
          "metadata": {},
          "execution_count": 77
        }
      ]
    },
    {
      "cell_type": "code",
      "source": [],
      "metadata": {
        "id": "U6pt8ADl84t1"
      },
      "execution_count": null,
      "outputs": []
    }
  ]
}