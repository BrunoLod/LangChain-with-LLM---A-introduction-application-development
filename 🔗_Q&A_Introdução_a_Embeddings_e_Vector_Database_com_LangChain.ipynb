{
  "nbformat": 4,
  "nbformat_minor": 0,
  "metadata": {
    "colab": {
      "provenance": []
    },
    "kernelspec": {
      "name": "python3",
      "display_name": "Python 3"
    },
    "language_info": {
      "name": "python"
    }
  },
  "cells": [
    {
      "cell_type": "markdown",
      "source": [
        "# Apresentação ✒️\n",
        "\n",
        "Notebook destinado ao estudo da implementação de banco de dados vetoriais, utilizando o LangChain. Os banco de dados vetoriais (vector databases) referem-se a um tipo de banco de dados construídos por termos vetoriais.\n",
        "\n",
        "A sua particular vantagem quando trabalhados no contexto das LLM's é que conseguem armazenar informação em sua representação vetorial, o que facilita a consulta futura de seus elementos constituintes com base na proximidade do elemento de consulta com o que está presente no banco de dados.\n",
        "\n",
        "O seu uso pode se associar a implementação de aplicações de LLM's com a técnica de RAG, consulta em documentos ou servir de elemento de memória para um chatbot.\n",
        "\n",
        "O estudo presente se relaciona a um caso de uso referente a um dataset formato csv. Nele, existem uma determinada quantidade de itens de vestuário, os quais o usuário pode querer consultar em ordem de saber alguma informação. Portanto, concebe-se que se refere a um caso de consulta do tipo Q&A.\n",
        "\n",
        "O objetivo é transformar os elementos presentes nesse conjunto de dados para uma representação vetorial, que será armazena num espaço vetorial, de modo a facilitar o encontro de determinados elementos com base na consulta do usuário, fornecendo a resposta desejada com base em sua pergunta ou entrada.\n",
        "\n",
        "No primeiro momento, desenvolve-se uma implementação manual, para destrinchar os passos importantes, e depois uma implementação mais automatizada, utilizando o LangChain.\n"
      ],
      "metadata": {
        "id": "YtAPGnWeDlSh"
      }
    },
    {
      "cell_type": "markdown",
      "source": [
        "# Biblioteca 📚"
      ],
      "metadata": {
        "id": "cej0ciXb2rLq"
      }
    },
    {
      "cell_type": "code",
      "execution_count": 1,
      "metadata": {
        "colab": {
          "base_uri": "https://localhost:8080/"
        },
        "id": "jqKHvaEUwDAX",
        "outputId": "e4a29611-76c1-4c59-dc1d-5ffd4b88c7a8"
      },
      "outputs": [
        {
          "output_type": "stream",
          "name": "stdout",
          "text": [
            "\u001b[2K     \u001b[90m━━━━━━━━━━━━━━━━━━━━━━━━━━━━━━━━━━━━━━━━\u001b[0m \u001b[32m975.5/975.5 kB\u001b[0m \u001b[31m3.4 MB/s\u001b[0m eta \u001b[36m0:00:00\u001b[0m\n",
            "\u001b[2K     \u001b[90m━━━━━━━━━━━━━━━━━━━━━━━━━━━━━━━━━━━━━━━━\u001b[0m \u001b[32m332.8/332.8 kB\u001b[0m \u001b[31m17.9 MB/s\u001b[0m eta \u001b[36m0:00:00\u001b[0m\n",
            "\u001b[2K     \u001b[90m━━━━━━━━━━━━━━━━━━━━━━━━━━━━━━━━━━━━━━━━\u001b[0m \u001b[32m127.4/127.4 kB\u001b[0m \u001b[31m7.5 MB/s\u001b[0m eta \u001b[36m0:00:00\u001b[0m\n",
            "\u001b[2K     \u001b[90m━━━━━━━━━━━━━━━━━━━━━━━━━━━━━━━━━━━━━━━━\u001b[0m \u001b[32m145.0/145.0 kB\u001b[0m \u001b[31m3.2 MB/s\u001b[0m eta \u001b[36m0:00:00\u001b[0m\n",
            "\u001b[?25h"
          ]
        }
      ],
      "source": [
        "!pip install --upgrade langchain -q"
      ]
    },
    {
      "cell_type": "code",
      "source": [
        "!pip install google-generativeai -q"
      ],
      "metadata": {
        "id": "ieqTmt3G21y0"
      },
      "execution_count": 2,
      "outputs": []
    },
    {
      "cell_type": "code",
      "source": [
        "!pip install langchain_google_genai -q"
      ],
      "metadata": {
        "id": "Nc8zmhXL3UN7"
      },
      "execution_count": 6,
      "outputs": []
    },
    {
      "cell_type": "code",
      "source": [
        "!pip install docarray -q"
      ],
      "metadata": {
        "id": "wBQZJH1C5UYG"
      },
      "execution_count": 13,
      "outputs": []
    },
    {
      "cell_type": "code",
      "source": [
        "\n",
        "import warnings\n",
        "warnings.filterwarnings('ignore')\n",
        "\n",
        "import os\n",
        "\n",
        "import google.generativeai as genai\n",
        "\n",
        "from langchain_google_genai import ChatGoogleGenerativeAI\n",
        "from langchain.chains import RetrievalQA\n",
        "from langchain.document_loaders import CSVLoader\n",
        "from langchain.vectorstores import DocArrayInMemorySearch\n",
        "from IPython.display import display, Markdown\n",
        "from langchain.embeddings import GooglePalmEmbeddings\n",
        "from langchain.indexes import VectorstoreIndexCreator"
      ],
      "metadata": {
        "id": "EVa_FZP93AWj"
      },
      "execution_count": 16,
      "outputs": []
    },
    {
      "cell_type": "markdown",
      "source": [
        "## Dataset 💾\n",
        "\n",
        "url = https://github.com/Ryota-Kawamura/LangChain-for-LLM-Application-Development/blob/main/OutdoorClothingCatalog_1000.csv"
      ],
      "metadata": {
        "id": "ZC0wOqRW4_-H"
      }
    },
    {
      "cell_type": "code",
      "source": [
        "# Carregando o dataset\n",
        "\n",
        "file = '/content/OutdoorClothingCatalog_1000.csv'\n",
        "loader = CSVLoader(file_path=file)"
      ],
      "metadata": {
        "id": "5oxBr8lE3Itu"
      },
      "execution_count": 10,
      "outputs": []
    },
    {
      "cell_type": "code",
      "source": [
        "# Armazenando o arquivo numa variável\n",
        "\n",
        "docs = loader.load()"
      ],
      "metadata": {
        "id": "nQ1xehkH8Kwy"
      },
      "execution_count": 22,
      "outputs": []
    },
    {
      "cell_type": "code",
      "source": [
        "# Visualizando um elemento do arquivo. Nota-se que refere-se a um item de vestuário,\n",
        "# contando com a sua página, nome, descrição, medidas e etc.\n",
        "\n",
        "docs[0]"
      ],
      "metadata": {
        "colab": {
          "base_uri": "https://localhost:8080/"
        },
        "id": "gyQliZ-K8Nx5",
        "outputId": "4cc9dea9-cf0e-4d02-8801-6400d5761f8c"
      },
      "execution_count": 25,
      "outputs": [
        {
          "output_type": "execute_result",
          "data": {
            "text/plain": [
              "Document(page_content=\": 0\\nname: Women's Campside Oxfords\\ndescription: This ultracomfortable lace-to-toe Oxford boasts a super-soft canvas, thick cushioning, and quality construction for a broken-in feel from the first time you put them on. \\n\\nSize & Fit: Order regular shoe size. For half sizes not offered, order up to next whole size. \\n\\nSpecs: Approx. weight: 1 lb.1 oz. per pair. \\n\\nConstruction: Soft canvas material for a broken-in feel and look. Comfortable EVA innersole with Cleansport NXT® antimicrobial odor control. Vintage hunt, fish and camping motif on innersole. Moderate arch contour of innersole. EVA foam midsole for cushioning and support. Chain-tread-inspired molded rubber outsole with modified chain-tread pattern. Imported. \\n\\nQuestions? Please contact us for any inquiries.\", metadata={'source': '/content/OutdoorClothingCatalog_1000.csv', 'row': 0})"
            ]
          },
          "metadata": {},
          "execution_count": 25
        }
      ]
    },
    {
      "cell_type": "code",
      "source": [
        "# Para fis de estudo, irei extrair apenas 50 itens e não 1000, para facilitar\n",
        "# o processamento de vetorização do modelo de embedding.\n",
        "\n",
        "docs = docs[:50]"
      ],
      "metadata": {
        "id": "zD_GJofm-qUF"
      },
      "execution_count": 27,
      "outputs": []
    },
    {
      "cell_type": "markdown",
      "source": [
        "## Variáveis do ambiente"
      ],
      "metadata": {
        "id": "1dGPERst6bEv"
      }
    },
    {
      "cell_type": "code",
      "source": [
        "os.environ['GOOGLE_API_KEY'] = 'sua-api-key'\n",
        "\n",
        "genai.configure(api_key=os.environ['GOOGLE_API_KEY'])"
      ],
      "metadata": {
        "id": "xPev6EY26fPQ"
      },
      "execution_count": 18,
      "outputs": []
    },
    {
      "cell_type": "markdown",
      "source": [
        "## Definindo o modelo de LLM e de embedding\n",
        "\n",
        "---\n",
        "\n"
      ],
      "metadata": {
        "id": "AOtd-zdG6QrU"
      }
    },
    {
      "cell_type": "code",
      "source": [
        "# Instanciando o modelo de LLM de uso :\n",
        "\n",
        "llm = ChatGoogleGenerativeAI(\n",
        "    model=\"gemini-1.5-pro-latest\",\n",
        "    temperature=0.2)"
      ],
      "metadata": {
        "id": "u-hLkggA66dI"
      },
      "execution_count": 19,
      "outputs": []
    },
    {
      "cell_type": "code",
      "source": [
        "# Instanciando o modelo de embedding utilizado :\n",
        "\n",
        "\"\"\"\n",
        "Importante lembrar que o modelo de embedding é aquele responsável\n",
        "por transformar o texto disposto em linguagem natural numa representação\n",
        "numérica vetorial que permite a máquina identificar relações entre os termos.\n",
        "\"\"\"\n",
        "\n",
        "embedding = GooglePalmEmbeddings()"
      ],
      "metadata": {
        "id": "GyD7vW0G5KQU"
      },
      "execution_count": 21,
      "outputs": []
    },
    {
      "cell_type": "markdown",
      "source": [
        "## Realizando a consulta de forma manual"
      ],
      "metadata": {
        "id": "9X4jxM1WBj-V"
      }
    },
    {
      "cell_type": "markdown",
      "source": [
        "### Criando um Vector Database"
      ],
      "metadata": {
        "id": "LTtRVXCV9EHJ"
      }
    },
    {
      "cell_type": "code",
      "source": [
        "# Criando um banco de dados vetorial (vector database), por meio da combinação\n",
        "# dos elementos presentes no dataset, que foram armazenados em 'docs', bem como\n",
        "# com o modelo de embedding.\n",
        "\n",
        "\"\"\"\n",
        "Aqui estou criando um objeto database, o qual por meio da classe\n",
        "DocArrayInMemorySearch relaciona os dados (que aqui estão no formato csv)\n",
        "com o modelo de embedding de uso. Assim, combina-os ao modelo, vetorizando-os\n",
        "para depois armazená-los num espaço vetorial.\n",
        "\"\"\"\n",
        "\n",
        "database = DocArrayInMemorySearch.from_documents(\n",
        "    docs,\n",
        "    embedding)"
      ],
      "metadata": {
        "id": "QfQYbB7z6Xh8"
      },
      "execution_count": 28,
      "outputs": []
    },
    {
      "cell_type": "code",
      "source": [
        "# Objeto vector database\n",
        "\n",
        "database"
      ],
      "metadata": {
        "colab": {
          "base_uri": "https://localhost:8080/"
        },
        "id": "fgoSCGvV9NzV",
        "outputId": "27709804-0c20-406d-ba35-3211e22355a5"
      },
      "execution_count": 29,
      "outputs": [
        {
          "output_type": "execute_result",
          "data": {
            "text/plain": [
              "<langchain_community.vectorstores.docarray.in_memory.DocArrayInMemorySearch at 0x7a85a1658460>"
            ]
          },
          "metadata": {},
          "execution_count": 29
        }
      ]
    },
    {
      "cell_type": "code",
      "source": [
        "# Realizando a consulta :\n",
        "\n",
        "query = \"Please suggest a shirt with sunblocking\""
      ],
      "metadata": {
        "id": "vC-CjfZe_CpZ"
      },
      "execution_count": 30,
      "outputs": []
    },
    {
      "cell_type": "code",
      "source": [
        "q_docs = database.similarity_search(query)"
      ],
      "metadata": {
        "id": "XE7NgRsuB4cq"
      },
      "execution_count": 38,
      "outputs": []
    },
    {
      "cell_type": "code",
      "source": [
        "# Visualizando a quantidade de itens que sejam próximos\n",
        "# do que fora perguntado :\n",
        "\n",
        "len(q_docs)"
      ],
      "metadata": {
        "colab": {
          "base_uri": "https://localhost:8080/"
        },
        "id": "bscI3fluB627",
        "outputId": "16546bab-cd51-4c98-ac81-84f3adf7d8c5"
      },
      "execution_count": 32,
      "outputs": [
        {
          "output_type": "execute_result",
          "data": {
            "text/plain": [
              "4"
            ]
          },
          "metadata": {},
          "execution_count": 32
        }
      ]
    },
    {
      "cell_type": "code",
      "source": [
        "# Visualizando o terceiro elemento :\n",
        "\n",
        "q_docs[2]"
      ],
      "metadata": {
        "colab": {
          "base_uri": "https://localhost:8080/"
        },
        "id": "50Cnc1sNCDRr",
        "outputId": "45cfdd95-57d5-4ca0-83ef-1c6b1265e1ed"
      },
      "execution_count": 33,
      "outputs": [
        {
          "output_type": "execute_result",
          "data": {
            "text/plain": [
              "Document(page_content=\": 14\\nname: Easy-Care Classic Stripe Short-Sleeve Shirt, Traditional Fit\\ndescription: The ultimate striped chambray shirt – we kept everything you love and made it even better. Light and breathable in 100% cotton, with an easy-care finish that sheds wrinkles remarkably well. \\n\\nSize & Fit\\nTraditional Fit: Relaxed through the chest, sleeve and waist. \\n\\nWhy We Love It\\nEven when something is loved as much as a classic chambray, there's always something you can do to make it even better. And that's just what we did – introducing our exclusive easy-care chambray. It's light, breathable and sheds wrinkles. Just throw it in the wash, and it's ready to wear right out of the dryer. \\n\\nFabric & Care\\n100% cotton chambray. A light iron gives it an even crisper look. Machine wash and dry. \\n\\nAdditional Features\\nSingle patch pocket. Button-down collar. Imported. \\n\\nQuestions?\\nFeel free to contact us with any questions or inquiries.\", metadata={'source': '/content/OutdoorClothingCatalog_1000.csv', 'row': 14})"
            ]
          },
          "metadata": {},
          "execution_count": 33
        }
      ]
    },
    {
      "cell_type": "code",
      "source": [
        "q_docs = \"\".join([q_docs[i].page_content for i in range(len(q_docs))])\n"
      ],
      "metadata": {
        "id": "FEGf6KVIDHfH"
      },
      "execution_count": 39,
      "outputs": []
    },
    {
      "cell_type": "code",
      "source": [
        "response = llm.call_as_llm(f\"{q_docs} Question: Please list all your \\\n",
        "shirts with sun protection in a table in markdown and summarize each one.\")\n"
      ],
      "metadata": {
        "id": "-7TFGD1-DHiH"
      },
      "execution_count": 40,
      "outputs": []
    },
    {
      "cell_type": "code",
      "source": [
        "# Visualizando a resposta da consulta.\n",
        "\n",
        "display(Markdown(response))"
      ],
      "metadata": {
        "colab": {
          "base_uri": "https://localhost:8080/",
          "height": 193
        },
        "id": "N7BODpOtDHlh",
        "outputId": "2021d1b1-c6e6-4582-a185-6587098d5c10"
      },
      "execution_count": 41,
      "outputs": [
        {
          "output_type": "display_data",
          "data": {
            "text/plain": [
              "<IPython.core.display.Markdown object>"
            ],
            "text/markdown": "Here are the shirts with sun protection:\n\n| Shirt Name | Sun Protection | Summary |\n|---|---|---|\n| Performance Plus Woven Shirt | UPF 40+ | Breathable, quick-drying shirt perfect for trail or travel. Made with abrasion-resistant fabric that blocks 98% of harmful UV rays. |\n| Refresh Swimwear, V-Neck Tankini Contrasts | UPF 50+ |  A comfortable and stylish tankini top designed for swimming and watersports. Made with recycled nylon and Lycra® spandex, it provides the highest rated sun protection. | \n"
          },
          "metadata": {}
        }
      ]
    },
    {
      "cell_type": "code",
      "source": [
        "# Criando um objeto que recupera a informação do banco de dados,\n",
        "# afinal retriever significa recuperador.\n",
        "\n",
        "retriever = database.as_retriever()"
      ],
      "metadata": {
        "id": "5aI0iwN9CIHs"
      },
      "execution_count": 34,
      "outputs": []
    },
    {
      "cell_type": "markdown",
      "source": [
        "## Realizando a consulta com o LangChain"
      ],
      "metadata": {
        "id": "rnMu-c2TK3yz"
      }
    },
    {
      "cell_type": "code",
      "source": [
        "qa_stuff = RetrievalQA.from_chain_type(\n",
        "    llm=llm,\n",
        "    chain_type=\"stuff\",\n",
        "    retriever=retriever,\n",
        "    verbose=True\n",
        ")"
      ],
      "metadata": {
        "id": "7x9335KmCvMu"
      },
      "execution_count": 42,
      "outputs": []
    },
    {
      "cell_type": "code",
      "source": [
        "query =  \"Please list all your shirts with sun protection in a table \\\n",
        "in markdown and summarize each one.\""
      ],
      "metadata": {
        "id": "CfQzjkzrLWmW"
      },
      "execution_count": 43,
      "outputs": []
    },
    {
      "cell_type": "code",
      "source": [
        "response = qa_stuff.run(query)"
      ],
      "metadata": {
        "colab": {
          "base_uri": "https://localhost:8080/",
          "height": 104
        },
        "id": "uZ5kUvSWLaX0",
        "outputId": "6cf1ee9b-2f2b-4367-f9a5-b8fa3d79290c"
      },
      "execution_count": 44,
      "outputs": [
        {
          "output_type": "stream",
          "name": "stdout",
          "text": [
            "\n",
            "\n",
            "\u001b[1m> Entering new RetrievalQA chain...\u001b[0m\n",
            "\n",
            "\u001b[1m> Finished chain.\u001b[0m\n"
          ]
        }
      ]
    },
    {
      "cell_type": "code",
      "source": [
        "display(Markdown(response))"
      ],
      "metadata": {
        "colab": {
          "base_uri": "https://localhost:8080/",
          "height": 143
        },
        "id": "KBcfXQhyLc_8",
        "outputId": "3d62f41e-f48d-4936-de38-e52e7104bdb9"
      },
      "execution_count": 45,
      "outputs": [
        {
          "output_type": "display_data",
          "data": {
            "text/plain": [
              "<IPython.core.display.Markdown object>"
            ],
            "text/markdown": "| Shirt Name | Summary |\n|---|---|\n| Performance Plus Woven Shirt | A breathable, quick-drying shirt perfect for trail or travel. It offers UPF 40+ sun protection. |\n| Refresh Swimwear, V-Neck Tankini Contrasts | A stylish and sustainable tankini top designed for swimming and watersports. It provides UPF 50+ sun protection. |\n| Angler's Athletic Shorts | While not a shirt, these athletic shorts designed for fly-fishing offer UPF 50+ sun protection. | \n"
          },
          "metadata": {}
        }
      ]
    },
    {
      "cell_type": "markdown",
      "source": [
        "### Chain Type ❗\n",
        "\n",
        "Observando novamente os parâmetros passados pelo RetrievalQA do LangChain, nota-se um parâmetro importante, o `chain_type`. Ele se refere ao tipo de cadeia criada. Ela é importante, pois informa como a informação recuperada do banco de dados será enviada ao modelo de LLM. Há três tipos de cadeias : stuff, map_reduce e refine.\n",
        "\n",
        "No presente notebook vemos a cadeia stuff. A sua dinâmica se relaciona ao fato de que essa cadeia retorna à LLM toda a informação recuperada pelo método retrieval, sem haver ponderações de nenhuma porção. Desse modo, uma vez utilizada, a LLM conta com todos os dados recuperados para formação de sua resposta, com base no prompt do usuário.\n",
        "\n",
        "A cadeia map_reduce é diferente da stuff, pois ao invés de fornecer à LLM toda a informação recuperada, prove apenas uma parte reduzida dela, previamente analisada. Assim, a cada porção a LLM vai recebendo a informação, construindo por meio da integração dessas partes uma resposta final e coesa. Essa abordagem é útil para casos de otimização no qual há uma grande quantidade de dados no dataset.\n",
        "\n",
        "Por fim, a cadeia refine apresenta uma abordagem de refinamento, na forma que é apresentado a ela um documento por vez, produzindo uma resposta parcial. A cada vez que lhe é apresentado um documento, elabora uma resposta parcial, de modo as integrá-las no fim numa resposta final coesa. Seu uso pode ser oportuno em cenários exploratórios, nos quais a resposta pode evoluir à medida que mais informações são consideradas."
      ],
      "metadata": {
        "id": "ZB5RfvOVLjIW"
      }
    },
    {
      "cell_type": "code",
      "source": [],
      "metadata": {
        "id": "GCbFbD_xLgSE"
      },
      "execution_count": null,
      "outputs": []
    }
  ]
}