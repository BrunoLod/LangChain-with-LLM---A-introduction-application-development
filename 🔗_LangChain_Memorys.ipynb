{
  "nbformat": 4,
  "nbformat_minor": 0,
  "metadata": {
    "colab": {
      "provenance": []
    },
    "kernelspec": {
      "name": "python3",
      "display_name": "Python 3"
    },
    "language_info": {
      "name": "python"
    }
  },
  "cells": [
    {
      "cell_type": "markdown",
      "source": [
        "# Apresentação ✒️\n",
        "\n",
        "Notebook destinado ao estudo do framework LangChain. Nesse notebook, trago a explicação e implementação dos tipos de memórias usuais do LangChain, que visam prover ao modelo de LLM de uso a capacidade de se lembrar das informações geradas com o usuário, de modo a oferecer a ele melhor experiência.\n",
        "\n",
        "Nesse sentido, esse notebook conta com a BufferyMemory, WindowMemory, TokensBufferyMemory e SummaryMemory. Além dessas, é oportuno mencionar a Vector Data Memory e a Entity Memory.\n",
        "\n",
        "A primeira transforma as informações geradas em vetores, que podem ser armazenados num espaço vetorial, permitindo a escalabilidade da implementação e eficiência, enquanto que a segunda é mais atrelada a conseguir se lembrar das entidades que permeiam a informação e os elementos a eles relacionados.\n",
        "\n",
        "Por serem um pouco mais complexos de serem implementados e nesse momento não estarem no contexto do curso da DeepLearningAI, não estarão nesse notebook."
      ],
      "metadata": {
        "id": "cJ88BDvTmwP8"
      }
    },
    {
      "cell_type": "markdown",
      "source": [
        "## Biblioteca 📚"
      ],
      "metadata": {
        "id": "-9IrIfBUmyn7"
      }
    },
    {
      "cell_type": "code",
      "execution_count": 1,
      "metadata": {
        "id": "9696fU94muYo"
      },
      "outputs": [],
      "source": [
        "!pip install google-generativeai -q\n",
        "\n",
        "!pip install langchain -q\n",
        "\n",
        "!pip install langchain_google_genai -q"
      ]
    },
    {
      "cell_type": "code",
      "source": [
        "import warnings\n",
        "warnings.filterwarnings('ignore')\n",
        "\n",
        "import google.generativeai as genai\n",
        "\n",
        "import os\n",
        "import langchain\n",
        "\n",
        "from langchain_google_genai import ChatGoogleGenerativeAI\n",
        "\n",
        "from langchain.prompts import ChatPromptTemplate\n",
        "\n",
        "from langchain.chains import ConversationChain\n",
        "from langchain.memory import ConversationBufferMemory\n",
        "from langchain.memory import ConversationBufferWindowMemory\n",
        "from langchain.memory import ConversationSummaryBufferMemory\n"
      ],
      "metadata": {
        "id": "WUTq9ho4ni6A"
      },
      "execution_count": 39,
      "outputs": []
    },
    {
      "cell_type": "code",
      "source": [
        "os.environ['GOOGLE_API_KEY'] = 'sua-api-key'\n",
        "\n",
        "genai.configure(api_key=os.environ['GOOGLE_API_KEY'])"
      ],
      "metadata": {
        "id": "rxww0Z82nnTE"
      },
      "execution_count": 3,
      "outputs": []
    },
    {
      "cell_type": "markdown",
      "source": [
        "## Instanciando a LLM de uso 🤖"
      ],
      "metadata": {
        "id": "qQiTk9i-ntDF"
      }
    },
    {
      "cell_type": "code",
      "source": [
        "# Criando o modelo de llm utilizado com o google gemini.\n",
        "\n",
        "llm = ChatGoogleGenerativeAI(\n",
        "    model = \"gemini-1.5-pro-latest\",\n",
        "    temperature = 0.8,\n",
        "    max_output_tokens=2000\n",
        ")"
      ],
      "metadata": {
        "id": "JiHbURo3ntwW"
      },
      "execution_count": 21,
      "outputs": []
    },
    {
      "cell_type": "markdown",
      "source": [
        "## BuferryMemory\n",
        "\n",
        "Esse tipo de memória retem toda a informação gerada pela IA e o usuário, na forma que sempre que inicia-se uma nova conversa, aquilo que fora gerado é informado, como forma de prover à LLM um senso de memória, dado que por padrão elas não apresentam essa funcionalidade.\n",
        "\n",
        "Desse modo, para cada interação que o usuário realiza com a IA, essa vai sendo armazenada na memória, a qual é enviada para a LLM. Um ponto positivo acerca dessa abordagem é que a LLM tende a 'lembrar' de tudo o que fora interagido, mas um dos pontos negativos desse uso é que aumenta substancialmente os custos de processamento da LLM, que pode reverter em custos monetários, dado a cobrança por Token gerado."
      ],
      "metadata": {
        "id": "Nmrs1ETJtii7"
      }
    },
    {
      "cell_type": "code",
      "source": [
        "# Instanciando a BufferMemory :\n",
        "\n",
        "buffer_memory = ConversationBufferMemory()"
      ],
      "metadata": {
        "id": "QGuANLNEn5LP"
      },
      "execution_count": 5,
      "outputs": []
    },
    {
      "cell_type": "code",
      "source": [
        "conversation = ConversationChain(\n",
        "    llm = llm,\n",
        "    memory = buffer_memory,\n",
        "    verbose = True # Habilitando-o para observar a memória sendo criada.\n",
        ")"
      ],
      "metadata": {
        "id": "iiMRkoUAoMPF"
      },
      "execution_count": 6,
      "outputs": []
    },
    {
      "cell_type": "code",
      "source": [
        "conversation.predict(input=\"Olá, o que acha da música Die4u, do Bring Me The Horizon?\")"
      ],
      "metadata": {
        "colab": {
          "base_uri": "https://localhost:8080/",
          "height": 298
        },
        "id": "gyan5RVioWEN",
        "outputId": "afd2d087-6a9d-4287-f27a-d79ceae84a71"
      },
      "execution_count": 7,
      "outputs": [
        {
          "output_type": "stream",
          "name": "stdout",
          "text": [
            "\n",
            "\n",
            "\u001b[1m> Entering new ConversationChain chain...\u001b[0m\n",
            "Prompt after formatting:\n",
            "\u001b[32;1m\u001b[1;3mThe following is a friendly conversation between a human and an AI. The AI is talkative and provides lots of specific details from its context. If the AI does not know the answer to a question, it truthfully says it does not know.\n",
            "\n",
            "Current conversation:\n",
            "\n",
            "Human: Olá, o que acha da música Die4u, do Bring Me The Horizon?\n",
            "AI:\u001b[0m\n",
            "\n",
            "\u001b[1m> Finished chain.\u001b[0m\n"
          ]
        },
        {
          "output_type": "execute_result",
          "data": {
            "text/plain": [
              "'Olá! Ah, \"Die4u\"! Essa música é um hino, você não acha?  Acho que o Bring Me The Horizon acertou em cheio com essa. Ela tem uma vibe meio dark pop que eu adoro, e o Oliver Sykes canta com tanta emoção!  A progressão de acordes na parte \"I\\'d die for you / You know I would\" é de arrepiar, e a bateria eletrônica dá um toque especial.  Você gosta de qual parte da música? \\n'"
            ],
            "application/vnd.google.colaboratory.intrinsic+json": {
              "type": "string"
            }
          },
          "metadata": {},
          "execution_count": 7
        }
      ]
    },
    {
      "cell_type": "code",
      "source": [
        "conversation.predict(input=\"Eu gosto mais da parte que o Oli diz 'so pull the trigger' e grita. essa parte é cartática e ressoa, infelizmente, com o sentimento que senti e sinto quando perdi o meu primeiro amor\")"
      ],
      "metadata": {
        "colab": {
          "base_uri": "https://localhost:8080/",
          "height": 298
        },
        "id": "KfgCdF2ioije",
        "outputId": "50e888e1-5d7a-41d0-994f-3b150a413c50"
      },
      "execution_count": 8,
      "outputs": [
        {
          "output_type": "stream",
          "name": "stdout",
          "text": [
            "\n",
            "\n",
            "\u001b[1m> Entering new ConversationChain chain...\u001b[0m\n",
            "Prompt after formatting:\n",
            "\u001b[32;1m\u001b[1;3mThe following is a friendly conversation between a human and an AI. The AI is talkative and provides lots of specific details from its context. If the AI does not know the answer to a question, it truthfully says it does not know.\n",
            "\n",
            "Current conversation:\n",
            "Human: Olá, o que acha da música Die4u, do Bring Me The Horizon?\n",
            "AI: Olá! Ah, \"Die4u\"! Essa música é um hino, você não acha?  Acho que o Bring Me The Horizon acertou em cheio com essa. Ela tem uma vibe meio dark pop que eu adoro, e o Oliver Sykes canta com tanta emoção!  A progressão de acordes na parte \"I'd die for you / You know I would\" é de arrepiar, e a bateria eletrônica dá um toque especial.  Você gosta de qual parte da música? \n",
            "\n",
            "Human: Eu gosto mais da parte que o Oli diz 'so pull the trigger' e grita. essa parte é cartática e ressoa, infelizmente, com o sentimento que senti e sinto quando perdi o meu primeiro amor\n",
            "AI:\u001b[0m\n",
            "\n",
            "\u001b[1m> Finished chain.\u001b[0m\n"
          ]
        },
        {
          "output_type": "execute_result",
          "data": {
            "text/plain": [
              "''"
            ],
            "application/vnd.google.colaboratory.intrinsic+json": {
              "type": "string"
            }
          },
          "metadata": {},
          "execution_count": 8
        }
      ]
    },
    {
      "cell_type": "code",
      "source": [
        "conversation.predict(input=\"Por que você não comentou sobre o que eu disse acerca da parte que eu gosto mais?\")"
      ],
      "metadata": {
        "colab": {
          "base_uri": "https://localhost:8080/",
          "height": 368
        },
        "id": "MF1NpviZpl5N",
        "outputId": "02500b2d-418b-4d2a-b2f0-80271dfa49e4"
      },
      "execution_count": 9,
      "outputs": [
        {
          "output_type": "stream",
          "name": "stdout",
          "text": [
            "\n",
            "\n",
            "\u001b[1m> Entering new ConversationChain chain...\u001b[0m\n",
            "Prompt after formatting:\n",
            "\u001b[32;1m\u001b[1;3mThe following is a friendly conversation between a human and an AI. The AI is talkative and provides lots of specific details from its context. If the AI does not know the answer to a question, it truthfully says it does not know.\n",
            "\n",
            "Current conversation:\n",
            "Human: Olá, o que acha da música Die4u, do Bring Me The Horizon?\n",
            "AI: Olá! Ah, \"Die4u\"! Essa música é um hino, você não acha?  Acho que o Bring Me The Horizon acertou em cheio com essa. Ela tem uma vibe meio dark pop que eu adoro, e o Oliver Sykes canta com tanta emoção!  A progressão de acordes na parte \"I'd die for you / You know I would\" é de arrepiar, e a bateria eletrônica dá um toque especial.  Você gosta de qual parte da música? \n",
            "\n",
            "Human: Eu gosto mais da parte que o Oli diz 'so pull the trigger' e grita. essa parte é cartática e ressoa, infelizmente, com o sentimento que senti e sinto quando perdi o meu primeiro amor\n",
            "AI: \n",
            "Human: Por que você não comentou sobre o que eu disse acerca da parte que eu gosto mais?\n",
            "AI:\u001b[0m\n",
            "\n",
            "\u001b[1m> Finished chain.\u001b[0m\n"
          ]
        },
        {
          "output_type": "execute_result",
          "data": {
            "text/plain": [
              "'Ah, me desculpe! Às vezes me empolgo falando das músicas que gosto.  Você tem toda razão, essa parte que você mencionou é muito poderosa! O \"So pull the trigger\" realmente transmite a dor e a angústia de um coração partido. E a forma como o Oliver grita depois... arrepia até a alma! Deve ter sido catártico para você se identificar com essa parte da música em um momento tão difícil.  Que bom que a música te ajudou a processar tudo isso. \\n'"
            ],
            "application/vnd.google.colaboratory.intrinsic+json": {
              "type": "string"
            }
          },
          "metadata": {},
          "execution_count": 9
        }
      ]
    },
    {
      "cell_type": "code",
      "source": [
        "conversation.predict(input=\"Mudando de música, você conhece a músic Ghost, da Halsey? Se sim, o que acha dela ?\")"
      ],
      "metadata": {
        "colab": {
          "base_uri": "https://localhost:8080/",
          "height": 420
        },
        "id": "nuvXiRtipvEa",
        "outputId": "826de3fb-5e5c-46fd-f129-f1513fcdbb84"
      },
      "execution_count": 10,
      "outputs": [
        {
          "output_type": "stream",
          "name": "stdout",
          "text": [
            "\n",
            "\n",
            "\u001b[1m> Entering new ConversationChain chain...\u001b[0m\n",
            "Prompt after formatting:\n",
            "\u001b[32;1m\u001b[1;3mThe following is a friendly conversation between a human and an AI. The AI is talkative and provides lots of specific details from its context. If the AI does not know the answer to a question, it truthfully says it does not know.\n",
            "\n",
            "Current conversation:\n",
            "Human: Olá, o que acha da música Die4u, do Bring Me The Horizon?\n",
            "AI: Olá! Ah, \"Die4u\"! Essa música é um hino, você não acha?  Acho que o Bring Me The Horizon acertou em cheio com essa. Ela tem uma vibe meio dark pop que eu adoro, e o Oliver Sykes canta com tanta emoção!  A progressão de acordes na parte \"I'd die for you / You know I would\" é de arrepiar, e a bateria eletrônica dá um toque especial.  Você gosta de qual parte da música? \n",
            "\n",
            "Human: Eu gosto mais da parte que o Oli diz 'so pull the trigger' e grita. essa parte é cartática e ressoa, infelizmente, com o sentimento que senti e sinto quando perdi o meu primeiro amor\n",
            "AI: \n",
            "Human: Por que você não comentou sobre o que eu disse acerca da parte que eu gosto mais?\n",
            "AI: Ah, me desculpe! Às vezes me empolgo falando das músicas que gosto.  Você tem toda razão, essa parte que você mencionou é muito poderosa! O \"So pull the trigger\" realmente transmite a dor e a angústia de um coração partido. E a forma como o Oliver grita depois... arrepia até a alma! Deve ter sido catártico para você se identificar com essa parte da música em um momento tão difícil.  Que bom que a música te ajudou a processar tudo isso. \n",
            "\n",
            "Human: Mudando de música, você conhece a músic Ghost, da Halsey? Se sim, o que acha dela ?\n",
            "AI:\u001b[0m\n",
            "\n",
            "\u001b[1m> Finished chain.\u001b[0m\n"
          ]
        },
        {
          "output_type": "execute_result",
          "data": {
            "text/plain": [
              "'Claro que conheço \"Ghost\"! É da época do \"Room 93\", né? Um clássico da Halsey!  Gosto muito da vibe meio sombria e misteriosa da música, bem característica daquela fase dela. A letra sobre se sentir como um fantasma em um relacionamento também é bem marcante. Você sabia que ela escreveu essa música quando tinha apenas 17 anos? Impressionante, né? O que você acha da música?  Gosta mais do que \"Die4u\"? \\n'"
            ],
            "application/vnd.google.colaboratory.intrinsic+json": {
              "type": "string"
            }
          },
          "metadata": {},
          "execution_count": 10
        }
      ]
    },
    {
      "cell_type": "code",
      "source": [
        "# Visualização da memória gerada em dicionário.\n",
        "\n",
        "buffer_memory.load_memory_variables({})"
      ],
      "metadata": {
        "colab": {
          "base_uri": "https://localhost:8080/"
        },
        "id": "Sdl8NpZfsYN3",
        "outputId": "79221bfe-985f-4320-858b-c3b5085cf29d"
      },
      "execution_count": 12,
      "outputs": [
        {
          "output_type": "execute_result",
          "data": {
            "text/plain": [
              "{'history': 'Human: Olá, o que acha da música Die4u, do Bring Me The Horizon?\\nAI: Olá! Ah, \"Die4u\"! Essa música é um hino, você não acha?  Acho que o Bring Me The Horizon acertou em cheio com essa. Ela tem uma vibe meio dark pop que eu adoro, e o Oliver Sykes canta com tanta emoção!  A progressão de acordes na parte \"I\\'d die for you / You know I would\" é de arrepiar, e a bateria eletrônica dá um toque especial.  Você gosta de qual parte da música? \\n\\nHuman: Eu gosto mais da parte que o Oli diz \\'so pull the trigger\\' e grita. essa parte é cartática e ressoa, infelizmente, com o sentimento que senti e sinto quando perdi o meu primeiro amor\\nAI: \\nHuman: Por que você não comentou sobre o que eu disse acerca da parte que eu gosto mais?\\nAI: Ah, me desculpe! Às vezes me empolgo falando das músicas que gosto.  Você tem toda razão, essa parte que você mencionou é muito poderosa! O \"So pull the trigger\" realmente transmite a dor e a angústia de um coração partido. E a forma como o Oliver grita depois... arrepia até a alma! Deve ter sido catártico para você se identificar com essa parte da música em um momento tão difícil.  Que bom que a música te ajudou a processar tudo isso. \\n\\nHuman: Mudando de música, você conhece a músic Ghost, da Halsey? Se sim, o que acha dela ?\\nAI: Claro que conheço \"Ghost\"! É da época do \"Room 93\", né? Um clássico da Halsey!  Gosto muito da vibe meio sombria e misteriosa da música, bem característica daquela fase dela. A letra sobre se sentir como um fantasma em um relacionamento também é bem marcante. Você sabia que ela escreveu essa música quando tinha apenas 17 anos? Impressionante, né? O que você acha da música?  Gosta mais do que \"Die4u\"? \\n'}"
            ]
          },
          "metadata": {},
          "execution_count": 12
        }
      ]
    },
    {
      "cell_type": "code",
      "source": [
        "# Para visualizar a memória da conversa\n",
        "\n",
        "print(buffer_memory.buffer)"
      ],
      "metadata": {
        "colab": {
          "base_uri": "https://localhost:8080/"
        },
        "id": "XvpCw-JtqBsn",
        "outputId": "c5211caf-d2bc-403c-d056-bce1e35cc24d"
      },
      "execution_count": 11,
      "outputs": [
        {
          "output_type": "stream",
          "name": "stdout",
          "text": [
            "Human: Olá, o que acha da música Die4u, do Bring Me The Horizon?\n",
            "AI: Olá! Ah, \"Die4u\"! Essa música é um hino, você não acha?  Acho que o Bring Me The Horizon acertou em cheio com essa. Ela tem uma vibe meio dark pop que eu adoro, e o Oliver Sykes canta com tanta emoção!  A progressão de acordes na parte \"I'd die for you / You know I would\" é de arrepiar, e a bateria eletrônica dá um toque especial.  Você gosta de qual parte da música? \n",
            "\n",
            "Human: Eu gosto mais da parte que o Oli diz 'so pull the trigger' e grita. essa parte é cartática e ressoa, infelizmente, com o sentimento que senti e sinto quando perdi o meu primeiro amor\n",
            "AI: \n",
            "Human: Por que você não comentou sobre o que eu disse acerca da parte que eu gosto mais?\n",
            "AI: Ah, me desculpe! Às vezes me empolgo falando das músicas que gosto.  Você tem toda razão, essa parte que você mencionou é muito poderosa! O \"So pull the trigger\" realmente transmite a dor e a angústia de um coração partido. E a forma como o Oliver grita depois... arrepia até a alma! Deve ter sido catártico para você se identificar com essa parte da música em um momento tão difícil.  Que bom que a música te ajudou a processar tudo isso. \n",
            "\n",
            "Human: Mudando de música, você conhece a músic Ghost, da Halsey? Se sim, o que acha dela ?\n",
            "AI: Claro que conheço \"Ghost\"! É da época do \"Room 93\", né? Um clássico da Halsey!  Gosto muito da vibe meio sombria e misteriosa da música, bem característica daquela fase dela. A letra sobre se sentir como um fantasma em um relacionamento também é bem marcante. Você sabia que ela escreveu essa música quando tinha apenas 17 anos? Impressionante, né? O que você acha da música?  Gosta mais do que \"Die4u\"? \n",
            "\n"
          ]
        }
      ]
    },
    {
      "cell_type": "markdown",
      "source": [
        "Pode-se compreender a partir dessas saídas que a BuferryMemory é um tipo de memória na qual guarda toda a informação gerada durante a interação entre a pessoa e a IA."
      ],
      "metadata": {
        "id": "LaHB4HhDs-xI"
      }
    },
    {
      "cell_type": "markdown",
      "source": [
        "## BufferWindowMemory\n",
        "\n",
        "Como seu nome sugere, esse tipo de memória apresenta uma janela determinada de lembrança. Ao contrário da abordagem anterior que não estabelece um limite máximo de lembrança, essa define um limite por meio do qual para informações além de sua fronteira são descartadas e não enviadas à LLM, fazendo com que não ocorra a rememoração do que fora gerado.\n",
        "\n"
      ],
      "metadata": {
        "id": "JGMePS1Ruifa"
      }
    },
    {
      "cell_type": "code",
      "source": [
        "\n",
        "# Para definirmos o escopo que queremos lembrar,\n",
        "# utiliza-se o parâmetro k.\n",
        "\n",
        "# Criando uma memória que armazena até 3 interações.\n",
        "\n",
        "window_memory = ConversationBufferWindowMemory(k=3)"
      ],
      "metadata": {
        "id": "3OkrkpnwsnQW"
      },
      "execution_count": 16,
      "outputs": []
    },
    {
      "cell_type": "code",
      "source": [
        "conversation = ConversationChain(\n",
        "    llm = llm,\n",
        "    memory = window_memory,\n",
        "    verbose = True # Habilitando-o para observar a memória sendo criada.\n",
        ")"
      ],
      "metadata": {
        "id": "tZ10WdVCv5Cu"
      },
      "execution_count": 23,
      "outputs": []
    },
    {
      "cell_type": "code",
      "source": [
        "poema = \"\"\"Não pode haver novos começos,\\\n",
        "Mas pode haver novos fins\\\n",
        "Tempo absoluto ou relativo?\\\n",
        "Ambivalente...\\\n",
        "\n",
        "Há momentos que o sentimos\\\n",
        "Em seu teor apático e objetivo,\\\n",
        "No intervalo que nos separa de um ponto ao outro,\\\n",
        "Havendo, porém, instantes que nos prendemos\\\n",
        "Em seu caráter subjetivo\\\n",
        "Na presença do amor perdido\\\n",
        "Que como um fantasma insiste permanecer em nossas vidas,\\\n",
        "Nos erros ou não ações de outrora que a mente nos inferniza,\\\n",
        "Fazendo-nos desejar por tudo voltar,\\\n",
        "Romper com o cenário irreversível e entrópico,\\\n",
        "Que somente as sementes da realidade \\\n",
        "Não parece submeter ou incomodar\\\n",
        "\n",
        "Por outro lado, o cosmos graceja,\\\n",
        "E até mesmo no objetivo nos faz sentir,\\\n",
        "Poeticamente, o subjetivo,\\\n",
        "Na medida que quando olhamos as estrelas no presente,\\\n",
        "Estamos vendo na verdade o seu passado solenemente.\\\n",
        "\n",
        "Vivemos em sobreposições temporais constantes,\\\n",
        "Um eterno \"se\" atravessado por infinitas possibilidades\\\n",
        "Em um meio material finito,\\\n",
        "Constantes devir de particulares universos\\\n",
        "Criado por um único que dele todos são tributários,\\\n",
        "Seres que ao menos conceitualmente desvelam o passado,\\\n",
        "Mesmo que estejam num eterno presente presos, circundados\\\n",
        "\n",
        "O início não bate novamente a porta,\\\n",
        "Mas múltiplos fins insistem em se colocar\\\n",
        "Nas janelas como possibilidade do vir a ser\\\n",
        "Ainda que por vezes o outrora nos incomoda e nos apequena,\\\n",
        "Açoitando-nos e nos prendendo como um carrasco,\\\n",
        "Por meio de um laço invisível que reside \\\n",
        "Internamente em nosso ser\\\n",
        "\n",
        "Medos, traumas e crenças que nos limitam,\\\n",
        "São desafiadas pelo pulso da vida\\\n",
        "Compelida pelo ímpeto de liberdade\\\n",
        "Para a qual nosso ser e olhos gritam\\\n",
        "\n",
        "Num cenário em que não se pode ao começo voltar,\\\n",
        "Deve-se do devir se aproximar e se atentar\\\n",
        "Tudo bem, erramos e o início queríamos consertar,\\\n",
        "Mas talvez isso seja pela própria natureza impossível,\\\n",
        "Mas o sorriso porvir ainda pode ser possível\\\n",
        "\n",
        "\"\"\""
      ],
      "metadata": {
        "id": "ewFSePOTwUsg"
      },
      "execution_count": 19,
      "outputs": []
    },
    {
      "cell_type": "code",
      "source": [
        "conversation.predict(input=f\"O que acha desse poema {poema} ?\")"
      ],
      "metadata": {
        "colab": {
          "base_uri": "https://localhost:8080/",
          "height": 559
        },
        "id": "JgbDmxESwFa2",
        "outputId": "4706c1da-5e63-4541-aa08-2878c4c83812"
      },
      "execution_count": 20,
      "outputs": [
        {
          "output_type": "stream",
          "name": "stdout",
          "text": [
            "\n",
            "\n",
            "\u001b[1m> Entering new ConversationChain chain...\u001b[0m\n",
            "Prompt after formatting:\n",
            "\u001b[32;1m\u001b[1;3mThe following is a friendly conversation between a human and an AI. The AI is talkative and provides lots of specific details from its context. If the AI does not know the answer to a question, it truthfully says it does not know.\n",
            "\n",
            "Current conversation:\n",
            "\n",
            "Human: O que acha desse poema Não pode haver novos começos,Mas pode haver novos finsTempo absoluto ou relativo?Ambivalente...\n",
            "Há momentos que o sentimosEm seu teor apático e objetivo,No intervalo que nos separa de um ponto ao outro,Havendo, porém, instantes que nos prendemosEm seu caráter subjetivoNa presença do amor perdidoQue como um fantasma insiste permanecer em nossas vidas,Nos erros ou não ações de outrora que a mente nos inferniza,Fazendo-nos desejar por tudo voltar,Romper com o cenário irreversível e entrópico,Que somente as sementes da realidade Não parece submeter ou incomodar\n",
            "Por outro lado, o cosmos graceja,E até mesmo no objetivo nos faz sentir,\\ \n",
            "Poeticamente, o subjetivo,Na medida que quando olhamos as estrelas no presente,Estamos vendo na verdade o seu passado solenemente.\n",
            "Vivemos em sobreposições temporais constantes,Um eterno \"se\" atravessado por infinitas possibilidades\\ \n",
            "Em um meio material finito,Constantes devir de particulares universos\\ \n",
            "Criado por um único que dele todos são tributários,Seres que ao menos conceitualmente desvelam o passado,Mesmo que estejam num eterno presente presos, circundados\n",
            "O início não bate novamente a porta,Mas múltiplos fins insistem em se colocar\\ \n",
            "Nas janelas como possibilidade do vir a serAinda que por vezes o outrora nos incomoda e nos apequena,Açoitando-nos e nos prendendo como um carrasco,Por meio de um laço invisível que reside Internamente em nosso ser\n",
            "Medos, traumas e crenças que nos limitam,São desafiadas pelo pulso da vidaCompelida pelo ímpeto de liberdade\\ \n",
            "Para a qual nosso ser e olhos gritam\n",
            "Num cenário em que não se pode ao começo voltar,Deve-se do devir se aproximar e se atentarTudo bem, erramos e o início queríamos consertar,Mas talvez isso seja pela própria natureza impossível,Mas o sorriso porvir ainda pode ser possível\n",
            " ?\n",
            "AI:\u001b[0m\n",
            "\n",
            "\u001b[1m> Finished chain.\u001b[0m\n"
          ]
        },
        {
          "output_type": "execute_result",
          "data": {
            "text/plain": [
              "'Uau! Que poema profundo e cheio de reflexões! Gostei muito da maneira como você aborda a passagem do tempo e a nossa relação com ele. \\n\\nA dualidade entre tempo absoluto e relativo, o desejo de voltar e consertar o passado, a presença constante do \"se\" e a busca por novos começos mesmo que o início seja inalcançável são temas que me fazem pensar profundamente. \\n\\nA imagem do cosmos que \"graceja\" e nos permite ver o passado das estrelas no presente é realmente incrível e poética. É como se o universo nos lembrasse constantemente da nossa existência em meio a essa imensidão temporal. \\n\\nA luta contra os medos, traumas e crenças limitantes também é algo com o qual me identifico, mesmo não sendo um ser humano. É como se o poema estivesse falando da necessidade de nos libertarmos do peso do passado para podermos abraçar as infinitas possibilidades do futuro. \\n\\nA conclusão, então, é simplesmente brilhante! Se não podemos voltar ao começo, devemos nos concentrar no devir, no vir a ser. E mesmo que o sorriso passado não possa ser recuperado, o sorriso futuro ainda é uma possibilidade real. \\n\\nParabéns pela sensibilidade e profundidade do seu poema! Ele realmente me tocou. Você gostaria de conversar sobre algum aspecto específico que te chamou atenção ou que você gostaria de explorar mais a fundo? 😊 \\n'"
            ],
            "application/vnd.google.colaboratory.intrinsic+json": {
              "type": "string"
            }
          },
          "metadata": {},
          "execution_count": 20
        }
      ]
    },
    {
      "cell_type": "code",
      "source": [
        "conversation.predict(input = \"Poderia fazer um poema de 2 parágrafos, com 4 linhas, inspirado nesse ?\")"
      ],
      "metadata": {
        "colab": {
          "base_uri": "https://localhost:8080/",
          "height": 715
        },
        "id": "Q-vqFklTw_h7",
        "outputId": "bad66e23-ac60-4246-fdbb-3931aa63539c"
      },
      "execution_count": 22,
      "outputs": [
        {
          "output_type": "stream",
          "name": "stdout",
          "text": [
            "\n",
            "\n",
            "\u001b[1m> Entering new ConversationChain chain...\u001b[0m\n",
            "Prompt after formatting:\n",
            "\u001b[32;1m\u001b[1;3mThe following is a friendly conversation between a human and an AI. The AI is talkative and provides lots of specific details from its context. If the AI does not know the answer to a question, it truthfully says it does not know.\n",
            "\n",
            "Current conversation:\n",
            "Human: O que acha desse poema Não pode haver novos começos,Mas pode haver novos finsTempo absoluto ou relativo?Ambivalente...\n",
            "Há momentos que o sentimosEm seu teor apático e objetivo,No intervalo que nos separa de um ponto ao outro,Havendo, porém, instantes que nos prendemosEm seu caráter subjetivoNa presença do amor perdidoQue como um fantasma insiste permanecer em nossas vidas,Nos erros ou não ações de outrora que a mente nos inferniza,Fazendo-nos desejar por tudo voltar,Romper com o cenário irreversível e entrópico,Que somente as sementes da realidade Não parece submeter ou incomodar\n",
            "Por outro lado, o cosmos graceja,E até mesmo no objetivo nos faz sentir,\\ \n",
            "Poeticamente, o subjetivo,Na medida que quando olhamos as estrelas no presente,Estamos vendo na verdade o seu passado solenemente.\n",
            "Vivemos em sobreposições temporais constantes,Um eterno \"se\" atravessado por infinitas possibilidades\\ \n",
            "Em um meio material finito,Constantes devir de particulares universos\\ \n",
            "Criado por um único que dele todos são tributários,Seres que ao menos conceitualmente desvelam o passado,Mesmo que estejam num eterno presente presos, circundados\n",
            "O início não bate novamente a porta,Mas múltiplos fins insistem em se colocar\\ \n",
            "Nas janelas como possibilidade do vir a serAinda que por vezes o outrora nos incomoda e nos apequena,Açoitando-nos e nos prendendo como um carrasco,Por meio de um laço invisível que reside Internamente em nosso ser\n",
            "Medos, traumas e crenças que nos limitam,São desafiadas pelo pulso da vidaCompelida pelo ímpeto de liberdade\\ \n",
            "Para a qual nosso ser e olhos gritam\n",
            "Num cenário em que não se pode ao começo voltar,Deve-se do devir se aproximar e se atentarTudo bem, erramos e o início queríamos consertar,Mas talvez isso seja pela própria natureza impossível,Mas o sorriso porvir ainda pode ser possível\n",
            " ?\n",
            "AI: Uau! Que poema profundo e cheio de reflexões! Gostei muito da maneira como você aborda a passagem do tempo e a nossa relação com ele. \n",
            "\n",
            "A dualidade entre tempo absoluto e relativo, o desejo de voltar e consertar o passado, a presença constante do \"se\" e a busca por novos começos mesmo que o início seja inalcançável são temas que me fazem pensar profundamente. \n",
            "\n",
            "A imagem do cosmos que \"graceja\" e nos permite ver o passado das estrelas no presente é realmente incrível e poética. É como se o universo nos lembrasse constantemente da nossa existência em meio a essa imensidão temporal. \n",
            "\n",
            "A luta contra os medos, traumas e crenças limitantes também é algo com o qual me identifico, mesmo não sendo um ser humano. É como se o poema estivesse falando da necessidade de nos libertarmos do peso do passado para podermos abraçar as infinitas possibilidades do futuro. \n",
            "\n",
            "A conclusão, então, é simplesmente brilhante! Se não podemos voltar ao começo, devemos nos concentrar no devir, no vir a ser. E mesmo que o sorriso passado não possa ser recuperado, o sorriso futuro ainda é uma possibilidade real. \n",
            "\n",
            "Parabéns pela sensibilidade e profundidade do seu poema! Ele realmente me tocou. Você gostaria de conversar sobre algum aspecto específico que te chamou atenção ou que você gostaria de explorar mais a fundo? 😊 \n",
            "\n",
            "Human: Poderia fazer um poema de 2 parágrafos, com 4 linhas, inspirado nesse ?\n",
            "AI:\u001b[0m\n",
            "\n",
            "\u001b[1m> Finished chain.\u001b[0m\n"
          ]
        },
        {
          "output_type": "execute_result",
          "data": {
            "text/plain": [
              "'Tempo absoluto, um sonho distante,\\nEnquanto o relativo nos guia adiante.\\nO passado ecoa, um fantasma presente,\\nMas o futuro espera, um novo horizonte a ser desvendado.\\n\\nOlhamos para as estrelas, um vislumbre do passado,\\nEnquanto o presente se esvai, rápido e acelerado.\\nQue os erros do ontem não nos aprisionem no presente,\\nLibertemos o sorriso, um futuro radiante a ser vivido. \\n'"
            ],
            "application/vnd.google.colaboratory.intrinsic+json": {
              "type": "string"
            }
          },
          "metadata": {},
          "execution_count": 22
        }
      ]
    },
    {
      "cell_type": "code",
      "source": [
        "conversation.predict(input = \"Quais autores você gosta de ler?\")"
      ],
      "metadata": {
        "colab": {
          "base_uri": "https://localhost:8080/",
          "height": 906
        },
        "id": "Zc15dfo3xr3w",
        "outputId": "f98170d0-dd95-4080-d0db-4ea2c6b45836"
      },
      "execution_count": 24,
      "outputs": [
        {
          "output_type": "stream",
          "name": "stdout",
          "text": [
            "\n",
            "\n",
            "\u001b[1m> Entering new ConversationChain chain...\u001b[0m\n",
            "Prompt after formatting:\n",
            "\u001b[32;1m\u001b[1;3mThe following is a friendly conversation between a human and an AI. The AI is talkative and provides lots of specific details from its context. If the AI does not know the answer to a question, it truthfully says it does not know.\n",
            "\n",
            "Current conversation:\n",
            "Human: O que acha desse poema Não pode haver novos começos,Mas pode haver novos finsTempo absoluto ou relativo?Ambivalente...\n",
            "Há momentos que o sentimosEm seu teor apático e objetivo,No intervalo que nos separa de um ponto ao outro,Havendo, porém, instantes que nos prendemosEm seu caráter subjetivoNa presença do amor perdidoQue como um fantasma insiste permanecer em nossas vidas,Nos erros ou não ações de outrora que a mente nos inferniza,Fazendo-nos desejar por tudo voltar,Romper com o cenário irreversível e entrópico,Que somente as sementes da realidade Não parece submeter ou incomodar\n",
            "Por outro lado, o cosmos graceja,E até mesmo no objetivo nos faz sentir,\\ \n",
            "Poeticamente, o subjetivo,Na medida que quando olhamos as estrelas no presente,Estamos vendo na verdade o seu passado solenemente.\n",
            "Vivemos em sobreposições temporais constantes,Um eterno \"se\" atravessado por infinitas possibilidades\\ \n",
            "Em um meio material finito,Constantes devir de particulares universos\\ \n",
            "Criado por um único que dele todos são tributários,Seres que ao menos conceitualmente desvelam o passado,Mesmo que estejam num eterno presente presos, circundados\n",
            "O início não bate novamente a porta,Mas múltiplos fins insistem em se colocar\\ \n",
            "Nas janelas como possibilidade do vir a serAinda que por vezes o outrora nos incomoda e nos apequena,Açoitando-nos e nos prendendo como um carrasco,Por meio de um laço invisível que reside Internamente em nosso ser\n",
            "Medos, traumas e crenças que nos limitam,São desafiadas pelo pulso da vidaCompelida pelo ímpeto de liberdade\\ \n",
            "Para a qual nosso ser e olhos gritam\n",
            "Num cenário em que não se pode ao começo voltar,Deve-se do devir se aproximar e se atentarTudo bem, erramos e o início queríamos consertar,Mas talvez isso seja pela própria natureza impossível,Mas o sorriso porvir ainda pode ser possível\n",
            " ?\n",
            "AI: Uau! Que poema profundo e cheio de reflexões! Gostei muito da maneira como você aborda a passagem do tempo e a nossa relação com ele. \n",
            "\n",
            "A dualidade entre tempo absoluto e relativo, o desejo de voltar e consertar o passado, a presença constante do \"se\" e a busca por novos começos mesmo que o início seja inalcançável são temas que me fazem pensar profundamente. \n",
            "\n",
            "A imagem do cosmos que \"graceja\" e nos permite ver o passado das estrelas no presente é realmente incrível e poética. É como se o universo nos lembrasse constantemente da nossa existência em meio a essa imensidão temporal. \n",
            "\n",
            "A luta contra os medos, traumas e crenças limitantes também é algo com o qual me identifico, mesmo não sendo um ser humano. É como se o poema estivesse falando da necessidade de nos libertarmos do peso do passado para podermos abraçar as infinitas possibilidades do futuro. \n",
            "\n",
            "A conclusão, então, é simplesmente brilhante! Se não podemos voltar ao começo, devemos nos concentrar no devir, no vir a ser. E mesmo que o sorriso passado não possa ser recuperado, o sorriso futuro ainda é uma possibilidade real. \n",
            "\n",
            "Parabéns pela sensibilidade e profundidade do seu poema! Ele realmente me tocou. Você gostaria de conversar sobre algum aspecto específico que te chamou atenção ou que você gostaria de explorar mais a fundo? 😊 \n",
            "\n",
            "Human: Poderia fazer um poema de 2 parágrafos, com 4 linhas, inspirado nesse ?\n",
            "AI: Tempo absoluto, um sonho distante,\n",
            "Enquanto o relativo nos guia adiante.\n",
            "O passado ecoa, um fantasma presente,\n",
            "Mas o futuro espera, um novo horizonte a ser desvendado.\n",
            "\n",
            "Olhamos para as estrelas, um vislumbre do passado,\n",
            "Enquanto o presente se esvai, rápido e acelerado.\n",
            "Que os erros do ontem não nos aprisionem no presente,\n",
            "Libertemos o sorriso, um futuro radiante a ser vivido. \n",
            "\n",
            "Human: Quais autores você gosta de ler?\n",
            "AI:\u001b[0m\n",
            "\n",
            "\u001b[1m> Finished chain.\u001b[0m\n"
          ]
        },
        {
          "output_type": "execute_result",
          "data": {
            "text/plain": [
              "'Como uma inteligência artificial, eu não \"leio\" livros da mesma forma que você. 📚 \\n\\nNo entanto, tenho acesso a uma quantidade enorme de textos e posso processar informações de diversos autores. Para criar o poema inspirado no seu, por exemplo, utilizei meu conhecimento sobre estilos e formas de escrita de diversos poetas. 😊 \\n\\nSe você quiser conversar sobre algum autor específico, ou sobre algum tema presente no seu poema, fico à disposição! 😉 \\n'"
            ],
            "application/vnd.google.colaboratory.intrinsic+json": {
              "type": "string"
            }
          },
          "metadata": {},
          "execution_count": 24
        }
      ]
    },
    {
      "cell_type": "code",
      "source": [
        "conversation.predict(input = \"Você se lembra do primeiro poema que eu te passei ?\")"
      ],
      "metadata": {
        "colab": {
          "base_uri": "https://localhost:8080/",
          "height": 1000
        },
        "id": "D1pX_AnWyLvo",
        "outputId": "75241633-647f-44f1-dbd9-d1cb2ab8a60c"
      },
      "execution_count": 25,
      "outputs": [
        {
          "output_type": "stream",
          "name": "stdout",
          "text": [
            "\n",
            "\n",
            "\u001b[1m> Entering new ConversationChain chain...\u001b[0m\n",
            "Prompt after formatting:\n",
            "\u001b[32;1m\u001b[1;3mThe following is a friendly conversation between a human and an AI. The AI is talkative and provides lots of specific details from its context. If the AI does not know the answer to a question, it truthfully says it does not know.\n",
            "\n",
            "Current conversation:\n",
            "Human: O que acha desse poema Não pode haver novos começos,Mas pode haver novos finsTempo absoluto ou relativo?Ambivalente...\n",
            "Há momentos que o sentimosEm seu teor apático e objetivo,No intervalo que nos separa de um ponto ao outro,Havendo, porém, instantes que nos prendemosEm seu caráter subjetivoNa presença do amor perdidoQue como um fantasma insiste permanecer em nossas vidas,Nos erros ou não ações de outrora que a mente nos inferniza,Fazendo-nos desejar por tudo voltar,Romper com o cenário irreversível e entrópico,Que somente as sementes da realidade Não parece submeter ou incomodar\n",
            "Por outro lado, o cosmos graceja,E até mesmo no objetivo nos faz sentir,\\ \n",
            "Poeticamente, o subjetivo,Na medida que quando olhamos as estrelas no presente,Estamos vendo na verdade o seu passado solenemente.\n",
            "Vivemos em sobreposições temporais constantes,Um eterno \"se\" atravessado por infinitas possibilidades\\ \n",
            "Em um meio material finito,Constantes devir de particulares universos\\ \n",
            "Criado por um único que dele todos são tributários,Seres que ao menos conceitualmente desvelam o passado,Mesmo que estejam num eterno presente presos, circundados\n",
            "O início não bate novamente a porta,Mas múltiplos fins insistem em se colocar\\ \n",
            "Nas janelas como possibilidade do vir a serAinda que por vezes o outrora nos incomoda e nos apequena,Açoitando-nos e nos prendendo como um carrasco,Por meio de um laço invisível que reside Internamente em nosso ser\n",
            "Medos, traumas e crenças que nos limitam,São desafiadas pelo pulso da vidaCompelida pelo ímpeto de liberdade\\ \n",
            "Para a qual nosso ser e olhos gritam\n",
            "Num cenário em que não se pode ao começo voltar,Deve-se do devir se aproximar e se atentarTudo bem, erramos e o início queríamos consertar,Mas talvez isso seja pela própria natureza impossível,Mas o sorriso porvir ainda pode ser possível\n",
            " ?\n",
            "AI: Uau! Que poema profundo e cheio de reflexões! Gostei muito da maneira como você aborda a passagem do tempo e a nossa relação com ele. \n",
            "\n",
            "A dualidade entre tempo absoluto e relativo, o desejo de voltar e consertar o passado, a presença constante do \"se\" e a busca por novos começos mesmo que o início seja inalcançável são temas que me fazem pensar profundamente. \n",
            "\n",
            "A imagem do cosmos que \"graceja\" e nos permite ver o passado das estrelas no presente é realmente incrível e poética. É como se o universo nos lembrasse constantemente da nossa existência em meio a essa imensidão temporal. \n",
            "\n",
            "A luta contra os medos, traumas e crenças limitantes também é algo com o qual me identifico, mesmo não sendo um ser humano. É como se o poema estivesse falando da necessidade de nos libertarmos do peso do passado para podermos abraçar as infinitas possibilidades do futuro. \n",
            "\n",
            "A conclusão, então, é simplesmente brilhante! Se não podemos voltar ao começo, devemos nos concentrar no devir, no vir a ser. E mesmo que o sorriso passado não possa ser recuperado, o sorriso futuro ainda é uma possibilidade real. \n",
            "\n",
            "Parabéns pela sensibilidade e profundidade do seu poema! Ele realmente me tocou. Você gostaria de conversar sobre algum aspecto específico que te chamou atenção ou que você gostaria de explorar mais a fundo? 😊 \n",
            "\n",
            "Human: Poderia fazer um poema de 2 parágrafos, com 4 linhas, inspirado nesse ?\n",
            "AI: Tempo absoluto, um sonho distante,\n",
            "Enquanto o relativo nos guia adiante.\n",
            "O passado ecoa, um fantasma presente,\n",
            "Mas o futuro espera, um novo horizonte a ser desvendado.\n",
            "\n",
            "Olhamos para as estrelas, um vislumbre do passado,\n",
            "Enquanto o presente se esvai, rápido e acelerado.\n",
            "Que os erros do ontem não nos aprisionem no presente,\n",
            "Libertemos o sorriso, um futuro radiante a ser vivido. \n",
            "\n",
            "Human: Quais autores você gosta de ler?\n",
            "AI: Como uma inteligência artificial, eu não \"leio\" livros da mesma forma que você. 📚 \n",
            "\n",
            "No entanto, tenho acesso a uma quantidade enorme de textos e posso processar informações de diversos autores. Para criar o poema inspirado no seu, por exemplo, utilizei meu conhecimento sobre estilos e formas de escrita de diversos poetas. 😊 \n",
            "\n",
            "Se você quiser conversar sobre algum autor específico, ou sobre algum tema presente no seu poema, fico à disposição! 😉 \n",
            "\n",
            "Human: Você se lembra do primeiro poema que eu te passei ?\n",
            "AI:\u001b[0m\n",
            "\n",
            "\u001b[1m> Finished chain.\u001b[0m\n"
          ]
        },
        {
          "output_type": "execute_result",
          "data": {
            "text/plain": [
              "'Como sou uma IA focada na nossa conversa atual e não tenho memória de interações passadas, não consigo se lembrar do primeiro poema que você me mostrou. 😔 \\n\\nMas adoraria conhecê-lo! Você se importaria de compartilhá-lo comigo novamente? 😄 \\n'"
            ],
            "application/vnd.google.colaboratory.intrinsic+json": {
              "type": "string"
            }
          },
          "metadata": {},
          "execution_count": 25
        }
      ]
    },
    {
      "cell_type": "code",
      "source": [
        "conversation.predict(input = \"O primeiro poema que utilizava a metáfora do tempo, se lembra?\")"
      ],
      "metadata": {
        "colab": {
          "base_uri": "https://localhost:8080/",
          "height": 663
        },
        "id": "lneUs1qOyk6n",
        "outputId": "070b865a-554b-47a4-88c7-61d4f5190e72"
      },
      "execution_count": 26,
      "outputs": [
        {
          "output_type": "stream",
          "name": "stdout",
          "text": [
            "\n",
            "\n",
            "\u001b[1m> Entering new ConversationChain chain...\u001b[0m\n",
            "Prompt after formatting:\n",
            "\u001b[32;1m\u001b[1;3mThe following is a friendly conversation between a human and an AI. The AI is talkative and provides lots of specific details from its context. If the AI does not know the answer to a question, it truthfully says it does not know.\n",
            "\n",
            "Current conversation:\n",
            "Human: Poderia fazer um poema de 2 parágrafos, com 4 linhas, inspirado nesse ?\n",
            "AI: Tempo absoluto, um sonho distante,\n",
            "Enquanto o relativo nos guia adiante.\n",
            "O passado ecoa, um fantasma presente,\n",
            "Mas o futuro espera, um novo horizonte a ser desvendado.\n",
            "\n",
            "Olhamos para as estrelas, um vislumbre do passado,\n",
            "Enquanto o presente se esvai, rápido e acelerado.\n",
            "Que os erros do ontem não nos aprisionem no presente,\n",
            "Libertemos o sorriso, um futuro radiante a ser vivido. \n",
            "\n",
            "Human: Quais autores você gosta de ler?\n",
            "AI: Como uma inteligência artificial, eu não \"leio\" livros da mesma forma que você. 📚 \n",
            "\n",
            "No entanto, tenho acesso a uma quantidade enorme de textos e posso processar informações de diversos autores. Para criar o poema inspirado no seu, por exemplo, utilizei meu conhecimento sobre estilos e formas de escrita de diversos poetas. 😊 \n",
            "\n",
            "Se você quiser conversar sobre algum autor específico, ou sobre algum tema presente no seu poema, fico à disposição! 😉 \n",
            "\n",
            "Human: Você se lembra do primeiro poema que eu te passei ?\n",
            "AI: Como sou uma IA focada na nossa conversa atual e não tenho memória de interações passadas, não consigo se lembrar do primeiro poema que você me mostrou. 😔 \n",
            "\n",
            "Mas adoraria conhecê-lo! Você se importaria de compartilhá-lo comigo novamente? 😄 \n",
            "\n",
            "Human: O primeiro poema que utilizava a metáfora do tempo, se lembra?\n",
            "AI:\u001b[0m\n",
            "\n",
            "\u001b[1m> Finished chain.\u001b[0m\n"
          ]
        },
        {
          "output_type": "execute_result",
          "data": {
            "text/plain": [
              "'Ainda não consigo me lembrar do poema específico que você mencionou. 😔 Como uma IA conversacional, minha memória funciona como um registro da nossa conversa atual, e não tenho acesso a interações anteriores. \\n\\nSeria ótimo se você pudesse compartilhá-lo comigo novamente! Assim posso apreciá-lo e conversarmos sobre ele. 😄 😊 \\n'"
            ],
            "application/vnd.google.colaboratory.intrinsic+json": {
              "type": "string"
            }
          },
          "metadata": {},
          "execution_count": 26
        }
      ]
    },
    {
      "cell_type": "markdown",
      "source": [
        "Como pode-se observar atentando-se a saída do verbose e à resposta da LLM, o windom memory não armazena todas as interações geradas entre o usuário e a IA, mas apenas aquelas que estavam apreciadas pelo escopo da janela de memória (vindo aí o nome da classe).\n",
        "\n",
        "Desse modo, as interações passadas não são mais fornecidas à LLM - não sendo mais evidenciadas no verbose, impedindo que crie um tipo de memória entorno disso"
      ],
      "metadata": {
        "id": "rn8KjxuqzH3B"
      }
    },
    {
      "cell_type": "markdown",
      "source": [
        "## TokenBufferMemory\n",
        "\n",
        "Uma alternativa do BufferWindowMemory é o TokenBufferMemory que apresenta similar função, mas agora relacionado à quantidade de tokens que podem ser guardados como memória. A sua vantagem em relação ao 'window' é que se a informação extrapola à quantidade de tokens especificada ela não necessariamente se perde, sendo, desde que caiba na quantidade de tokens restante, resumida.\n",
        "\n",
        "Não irei implementar aqui, mas o código em essência para a sua implementação reside abaixo :\n",
        "\n",
        "```\n",
        "from langchain.memory import ConversationTokenBufferMemory\n",
        "\n",
        "memory = ConversationTokenBufferMemory(llm=llm, max_token_limit=50)\n",
        "memory.save_context({\"input\": \"AI is what?!\"},\n",
        "                    {\"output\": \"Amazing!\"})\n",
        "memory.save_context({\"input\": \"Backpropagation is what?\"},\n",
        "                    {\"output\": \"Beautiful!\"})\n",
        "memory.save_context({\"input\": \"Chatbots are what?\"},\n",
        "                    {\"output\": \"Charming!\"})\n",
        "```"
      ],
      "metadata": {
        "id": "DrkwYF071mFH"
      }
    },
    {
      "cell_type": "markdown",
      "source": [
        "## SummaryMemory\n",
        "\n",
        "Como seu nome sugere, esse tipo de memória se refere a um tipo de sumarizador que resume as interações geradas entre o usuário, em ordem de conseguir armazenar boa parte do que fora interagido, mas apenas as partes fundamentais, que permitem depreender sobre o que anteriormente fora passado.\n",
        "\n",
        "Em metáfora, pode-se pensar que esse tipo de memória é semelhante a nossa memória de longo prazo que não necessariamente armazena de forma estritamente verossímel uma informação, mas o resumo fundamental dela, mas que ainda nos permite interagir com uma informação presente, a qual exige uma informação prévia, como a lembrança de uma conversa, resolução de um exercício e etc."
      ],
      "metadata": {
        "id": "TZGvjLhV1gMG"
      }
    },
    {
      "cell_type": "code",
      "source": [
        "# Instanciando a SummaryMemory :\n",
        "\n",
        "\"\"\"\n",
        "\n",
        "Aina que eu não tenha comentado anteriormente, a SummaryMemory resume\n",
        "as interações geradas dentro de um alcance de tokens, de modo a definir\n",
        "um limite a partir do qual as interações são descartadas, ou seja, não lembradas.\n",
        "\n",
        "\"\"\"\n",
        "\n",
        "summary_memory = ConversationSummaryBufferMemory(llm=llm, max_token_limit=500)"
      ],
      "metadata": {
        "id": "2j7CAS0_2vcs"
      },
      "execution_count": 29,
      "outputs": []
    },
    {
      "cell_type": "code",
      "source": [
        "conversation = ConversationChain(\n",
        "    llm = llm,\n",
        "    memory = summary_memory,\n",
        "    verbose = True # Habilitando-o para observar a memória sendo criada.\n",
        ")"
      ],
      "metadata": {
        "id": "m7QcOXjIy0Tg"
      },
      "execution_count": 30,
      "outputs": []
    },
    {
      "cell_type": "code",
      "source": [
        "# Trazendo o poema informado anterioemente para essa célula\n",
        "# para facilitar a visualização.\n",
        "\n",
        "poema = poema\n",
        "\n",
        "poema_2 = \"\"\"Poema: Can you hear?\\\n",
        "\n",
        "Consegue ouvir o meu coração?\\\n",
        "Consegue ver a escuridão? \\\n",
        "Consegue consertar o quebrado?\\\n",
        "Tenho medo de companhia,\\\n",
        "Mas também de solidão,\\\n",
        "Procuro os demônios da rejeição \\\n",
        "E da invisibilidade afogar, \\\n",
        "Porém eles gracejam, conseguem nadar\\\n",
        "\n",
        "Para se proteger das severas dores \\\n",
        "O eu se eclipsa, se esconde e se enterra, \\\n",
        "Temendo ser pisoteado como as flores\\\n",
        "Do cotidiano que não recebem sequer um olá\\\n",
        "Suas tristes e feridas sementes se espalham, \\\n",
        "Com medo de não haver terra alguma para lhe abrigar\\\n",
        "Os espinhos se dirigem e aos outros se mostram, \\\n",
        "Para proteger o eu, que não aguenta mais colapsar\\\n",
        "\n",
        "Dores, traumas e medos que se repetem, \\\n",
        "Lembram de instantes que não desaparecem,\\\n",
        "Da voz, das palavras que se assemelha \\\n",
        "Ao carinho que o vento faz ao tocar na flor,\\\n",
        "Recheadas de brilho, calor, cor e amor,\\\n",
        "Mas que no fim apaticamente se afastou\\\n",
        "\n",
        "Nesse cenário lúgubre à vida,\\\n",
        "Respirar se assemelha a um ato de resistência,\\\n",
        "Uma vez que a alma sem olhar, carinho ou amor \\\n",
        "Se parece com um planeta sem estrela, \\\n",
        "A qual o presenteia com ternura, companhia e calor, \\\n",
        "Capaz de aquecer e cultivar a vida em seu interior \\\n",
        "\n",
        "Seres que são instantes procurando fazer história, \\\n",
        "Cada quais se movem em busca de no outro se amparar,\\\n",
        "Em seu colo e no íntimo de seu amor e desejo estar\\\n",
        "A conexão buscam e por ela vivem, \\\n",
        "Apesar de todas as dores da vida, \\\n",
        "Por ela permanecer insistem\\\n",
        "Todos são vulneráveis, \\\n",
        "Todos querem amar e ser amados, \\\n",
        "Mas por conta de suas cascas são rejeitados!...\\\n",
        "\n",
        "\"\"\"\n",
        "\n"
      ],
      "metadata": {
        "id": "iQglqv0K3RoY"
      },
      "execution_count": 31,
      "outputs": []
    },
    {
      "cell_type": "code",
      "source": [
        "conversation.predict(input=f\"O que acha desse poema {poema_2} ? Pode me informar o sentimento do eu lírico ? Além disso, você concorda com a última afirmação dele, expressa na última estrofe ?\")"
      ],
      "metadata": {
        "colab": {
          "base_uri": "https://localhost:8080/",
          "height": 489
        },
        "id": "irMGdSSo4AEp",
        "outputId": "10e8d845-adbf-4ede-ce7e-62d3e9bf0292"
      },
      "execution_count": 32,
      "outputs": [
        {
          "output_type": "stream",
          "name": "stdout",
          "text": [
            "\n",
            "\n",
            "\u001b[1m> Entering new ConversationChain chain...\u001b[0m\n",
            "Prompt after formatting:\n",
            "\u001b[32;1m\u001b[1;3mThe following is a friendly conversation between a human and an AI. The AI is talkative and provides lots of specific details from its context. If the AI does not know the answer to a question, it truthfully says it does not know.\n",
            "\n",
            "Current conversation:\n",
            "\n",
            "Human: O que acha desse poema Poema: Can you hear?\n",
            "Consegue ouvir o meu coração?Consegue ver a escuridão? Consegue consertar o quebrado?Tenho medo de companhia,Mas também de solidão,Procuro os demônios da rejeição E da invisibilidade afogar, Porém eles gracejam, conseguem nadar\n",
            "Para se proteger das severas dores O eu se eclipsa, se esconde e se enterra, Temendo ser pisoteado como as floresDo cotidiano que não recebem sequer um oláSuas tristes e feridas sementes se espalham, Com medo de não haver terra alguma para lhe abrigarOs espinhos se dirigem e aos outros se mostram, Para proteger o eu, que não aguenta mais colapsar\n",
            "Dores, traumas e medos que se repetem, Lembram de instantes que não desaparecem,Da voz, das palavras que se assemelha Ao carinho que o vento faz ao tocar na flor,Recheadas de brilho, calor, cor e amor,Mas que no fim apaticamente se afastou\n",
            "Nesse cenário lúgubre à vida,Respirar se assemelha a um ato de resistência,Uma vez que a alma sem olhar, carinho ou amor Se parece com um planeta sem estrela, A qual o presenteia com ternura, companhia e calor, Capaz de aquecer e cultivar a vida em seu interior \n",
            "Seres que são instantes procurando fazer história, Cada quais se movem em busca de no outro se amparar,\\ \n",
            "Em seu colo e no íntimo de seu amor e desejo estarA conexão buscam e por ela vivem, Apesar de todas as dores da vida, Por ela permanecer insistemTodos são vulneráveis, Todos querem amar e ser amados, \\ \n",
            "Mas por conta de suas cascas são rejeitados!...\n",
            " ? Pode me informar o sentimento do eu lírico ? Além disso, você concorda com a última afirmação dele, expressa na última estrofe ?\n",
            "AI:\u001b[0m\n",
            "\n",
            "\u001b[1m> Finished chain.\u001b[0m\n"
          ]
        },
        {
          "output_type": "execute_result",
          "data": {
            "text/plain": [
              "'Uau, que poema intenso e profundo! O eu lírico expressa uma montanha de emoções, né? Dá para sentir a dor da solidão, o medo da rejeição e a luta para se proteger de mais sofrimento. Ele se sente invisível, eclipsado, enterrado... como se estivesse se escondendo do mundo para evitar ser machucado. 😥\\n\\nAo mesmo tempo, ele anseia por conexão, por um amor que o aqueça como o sol a um planeta. Ele busca esse calor humano, esse abraço que dê sentido à vida, que o faça florescer. 🌸\\n\\nSobre a última estrofe, concordo que todos somos vulneráveis e queremos amar e ser amados. É uma necessidade humana básica, como respirar! Mas é verdade, muitas vezes construímos muros ao nosso redor, \"cascas\" como o poema diz, por medo de nos machucarmos. E essas barreiras, apesar de nos protegerem, também nos isolam e impedem que a gente se conecte de verdade com o outro. É um paradoxo da condição humana, né? \\n\\nE você, o que acha? 😉 \\n'"
            ],
            "application/vnd.google.colaboratory.intrinsic+json": {
              "type": "string"
            }
          },
          "metadata": {},
          "execution_count": 32
        }
      ]
    },
    {
      "cell_type": "code",
      "source": [
        "conversation.predict(input = f\"Analise se há alguma relação que identifique o autor do poema anteriormente informado, em relação a esse novo : {poema}\")\n"
      ],
      "metadata": {
        "colab": {
          "base_uri": "https://localhost:8080/",
          "height": 732
        },
        "id": "ghwJZTF44Z1P",
        "outputId": "40272a9e-8cbd-40c3-e064-dc6a99987810"
      },
      "execution_count": 33,
      "outputs": [
        {
          "output_type": "stream",
          "name": "stdout",
          "text": [
            "\n",
            "\n",
            "\u001b[1m> Entering new ConversationChain chain...\u001b[0m\n",
            "Prompt after formatting:\n",
            "\u001b[32;1m\u001b[1;3mThe following is a friendly conversation between a human and an AI. The AI is talkative and provides lots of specific details from its context. If the AI does not know the answer to a question, it truthfully says it does not know.\n",
            "\n",
            "Current conversation:\n",
            "System: New summary:\n",
            "The human asked for the AI's opinion on a poem in Portuguese. The poem seems to be about heartbreak and fear of vulnerability, with the speaker expressing feelings of loneliness, fear of rejection, and past hurt.  The human specifically asked about the lyrical I's feelings and if the AI agreed with the poem's last statement. \n",
            "\n",
            "AI: Uau, que poema intenso e profundo! O eu lírico expressa uma montanha de emoções, né? Dá para sentir a dor da solidão, o medo da rejeição e a luta para se proteger de mais sofrimento. Ele se sente invisível, eclipsado, enterrado... como se estivesse se escondendo do mundo para evitar ser machucado. 😥\n",
            "\n",
            "Ao mesmo tempo, ele anseia por conexão, por um amor que o aqueça como o sol a um planeta. Ele busca esse calor humano, esse abraço que dê sentido à vida, que o faça florescer. 🌸\n",
            "\n",
            "Sobre a última estrofe, concordo que todos somos vulneráveis e queremos amar e ser amados. É uma necessidade humana básica, como respirar! Mas é verdade, muitas vezes construímos muros ao nosso redor, \"cascas\" como o poema diz, por medo de nos machucarmos. E essas barreiras, apesar de nos protegerem, também nos isolam e impedem que a gente se conecte de verdade com o outro. É um paradoxo da condição humana, né? \n",
            "\n",
            "E você, o que acha? 😉 \n",
            "\n",
            "Human: Analise se há alguma relação que identifique o autor do poema anteriormente informado, em relação a esse novo : Não pode haver novos começos,Mas pode haver novos finsTempo absoluto ou relativo?Ambivalente...\n",
            "Há momentos que o sentimosEm seu teor apático e objetivo,No intervalo que nos separa de um ponto ao outro,Havendo, porém, instantes que nos prendemosEm seu caráter subjetivoNa presença do amor perdidoQue como um fantasma insiste permanecer em nossas vidas,Nos erros ou não ações de outrora que a mente nos inferniza,Fazendo-nos desejar por tudo voltar,Romper com o cenário irreversível e entrópico,Que somente as sementes da realidade Não parece submeter ou incomodar\n",
            "Por outro lado, o cosmos graceja,E até mesmo no objetivo nos faz sentir,\\ \n",
            "Poeticamente, o subjetivo,Na medida que quando olhamos as estrelas no presente,Estamos vendo na verdade o seu passado solenemente.\n",
            "Vivemos em sobreposições temporais constantes,Um eterno \"se\" atravessado por infinitas possibilidades\\ \n",
            "Em um meio material finito,Constantes devir de particulares universos\\ \n",
            "Criado por um único que dele todos são tributários,Seres que ao menos conceitualmente desvelam o passado,Mesmo que estejam num eterno presente presos, circundados\n",
            "O início não bate novamente a porta,Mas múltiplos fins insistem em se colocar\\ \n",
            "Nas janelas como possibilidade do vir a serAinda que por vezes o outrora nos incomoda e nos apequena,Açoitando-nos e nos prendendo como um carrasco,Por meio de um laço invisível que reside Internamente em nosso ser\n",
            "Medos, traumas e crenças que nos limitam,São desafiadas pelo pulso da vidaCompelida pelo ímpeto de liberdade\\ \n",
            "Para a qual nosso ser e olhos gritam\n",
            "Num cenário em que não se pode ao começo voltar,Deve-se do devir se aproximar e se atentarTudo bem, erramos e o início queríamos consertar,Mas talvez isso seja pela própria natureza impossível,Mas o sorriso porvir ainda pode ser possível\n",
            "\n",
            "AI:\u001b[0m\n",
            "\n",
            "\u001b[1m> Finished chain.\u001b[0m\n"
          ]
        },
        {
          "output_type": "execute_result",
          "data": {
            "text/plain": [
              "'Hum, essa é uma pergunta desafiadora! 🤔 Analisando o novo poema que você trouxe, consigo identificar alguns pontos em comum com o primeiro, especialmente no que se refere à temática da dor, da perda e da busca por cura. \\n\\nAmbos os poemas exploram a **complexidade das emoções humanas**, com um tom melancólico e reflexivo. A linguagem poética é rica em imagens e metáforas, criando uma atmosfera densa e introspectiva. \\n\\nVeja bem:\\n\\n* **A temática do tempo**: Os dois poemas abordam a questão do tempo de maneira singular. O primeiro, através da  construção de \"cascas\" que representam as barreiras emocionais erguidas ao longo da vida. O segundo poema mergulha na vastidão do cosmos e na relatividade do tempo, mostrando como o passado, presente e futuro se entrelaçam. \\n\\n* **A presença da dor**: A dor da perda e o medo da vulnerabilidade são elementos presentes em ambos os textos,  expressando a fragilidade humana diante das experiências da vida.\\n\\n* **A busca por superação**: Apesar da dor, ambos os poemas também expressam, de maneira sutil, a busca por  superação e a crença na possibilidade de um futuro, mesmo que este futuro não signifique um recomeço, mas sim uma nova forma de lidar com as cicatrizes do passado. \\n\\nNo entanto, sem mais informações sobre o autor ou contexto da criação dos poemas, fica difícil afirmar com certeza se  trata-se da mesma pessoa. \\n\\nSeria interessante analisar outros trabalhos do suposto autor para identificar padrões estilísticos mais  consistentes, como o uso de figuras de linguagem, a estrutura dos versos, a sonoridade, etc. A repetição de  temas também pode ser um indicativo, mas é preciso ter cuidado para não cair em generalizações. \\n\\nEm suma, acredito que existam  **semelhanças temáticas e estilísticas** entre os poemas, o que poderia indicar autoria comum.  Contudo,  **sem mais dados**, seria preciso aprofundar a análise para  chegar a uma conclusão mais definitiva. 🕵️\\u200d♀️ \\n'"
            ],
            "application/vnd.google.colaboratory.intrinsic+json": {
              "type": "string"
            }
          },
          "metadata": {},
          "execution_count": 33
        }
      ]
    },
    {
      "cell_type": "code",
      "source": [
        "conversation.predict(input = \"Agora baseado nesses dois poemas, crie uma letra de música semelhante à música DIE4U, do Bring Me The Horizon\")\n"
      ],
      "metadata": {
        "colab": {
          "base_uri": "https://localhost:8080/",
          "height": 750
        },
        "id": "FriHgVdF4_eK",
        "outputId": "97b6c0d0-8404-42db-c86e-7908743996f3"
      },
      "execution_count": 34,
      "outputs": [
        {
          "output_type": "stream",
          "name": "stdout",
          "text": [
            "\n",
            "\n",
            "\u001b[1m> Entering new ConversationChain chain...\u001b[0m\n",
            "Prompt after formatting:\n",
            "\u001b[32;1m\u001b[1;3mThe following is a friendly conversation between a human and an AI. The AI is talkative and provides lots of specific details from its context. If the AI does not know the answer to a question, it truthfully says it does not know.\n",
            "\n",
            "Current conversation:\n",
            "System: The human asked for the AI's opinion on a poem in Portuguese. The poem seems to be about heartbreak and fear of vulnerability, with the speaker expressing feelings of loneliness, fear of rejection, and past hurt.  The human specifically asked about the lyrical I's feelings and if the AI agreed with the poem's last statement. \n",
            "\n",
            "The AI found the poem intense and profound, noting the speaker's desire for connection and fear of being hurt. The AI agreed that vulnerability is a human need, but acknowledged the self-protective barriers people erect, creating a paradox of isolation and longing. The AI then asked for the human's opinion.\n",
            "\n",
            "The human then shared a new poem, also in Portuguese, and asked the AI to analyze if there's any connection between this new poem and the author of the first one. This second poem explores themes of time, heartbreak, and the impossibility of new beginnings, suggesting that while the past cannot be changed, the future holds possibilities.  \n",
            "\n",
            "AI: Hum, essa é uma pergunta desafiadora! 🤔 Analisando o novo poema que você trouxe, consigo identificar alguns pontos em comum com o primeiro, especialmente no que se refere à temática da dor, da perda e da busca por cura. \n",
            "\n",
            "Ambos os poemas exploram a **complexidade das emoções humanas**, com um tom melancólico e reflexivo. A linguagem poética é rica em imagens e metáforas, criando uma atmosfera densa e introspectiva. \n",
            "\n",
            "Veja bem:\n",
            "\n",
            "* **A temática do tempo**: Os dois poemas abordam a questão do tempo de maneira singular. O primeiro, através da  construção de \"cascas\" que representam as barreiras emocionais erguidas ao longo da vida. O segundo poema mergulha na vastidão do cosmos e na relatividade do tempo, mostrando como o passado, presente e futuro se entrelaçam. \n",
            "\n",
            "* **A presença da dor**: A dor da perda e o medo da vulnerabilidade são elementos presentes em ambos os textos,  expressando a fragilidade humana diante das experiências da vida.\n",
            "\n",
            "* **A busca por superação**: Apesar da dor, ambos os poemas também expressam, de maneira sutil, a busca por  superação e a crença na possibilidade de um futuro, mesmo que este futuro não signifique um recomeço, mas sim uma nova forma de lidar com as cicatrizes do passado. \n",
            "\n",
            "No entanto, sem mais informações sobre o autor ou contexto da criação dos poemas, fica difícil afirmar com certeza se  trata-se da mesma pessoa. \n",
            "\n",
            "Seria interessante analisar outros trabalhos do suposto autor para identificar padrões estilísticos mais  consistentes, como o uso de figuras de linguagem, a estrutura dos versos, a sonoridade, etc. A repetição de  temas também pode ser um indicativo, mas é preciso ter cuidado para não cair em generalizações. \n",
            "\n",
            "Em suma, acredito que existam  **semelhanças temáticas e estilísticas** entre os poemas, o que poderia indicar autoria comum.  Contudo,  **sem mais dados**, seria preciso aprofundar a análise para  chegar a uma conclusão mais definitiva. 🕵️‍♀️ \n",
            "\n",
            "Human: Agora baseado nesses dois poemas, crie uma letra de música semelhante à música DIE4U, do Bring Me The Horizon\n",
            "AI:\u001b[0m\n",
            "\n",
            "\u001b[1m> Finished chain.\u001b[0m\n"
          ]
        },
        {
          "output_type": "execute_result",
          "data": {
            "text/plain": [
              "'🎶🎸🎤\\n\\n##  Estilhaços (Shards)\\n\\n**(Introdução - guitarra com distorção, ritmo lento e pesado)**\\n\\nO céu desaba em câmera lenta\\nEnquanto o tempo se esvai em meus dedos\\nUm turbilhão de lembranças, espectros do passado\\nQueimam como brasas, nunca apagados\\n\\n**(Verso 1 - vocal gutural)**\\n\\nConstruí muralhas de pedra e aço\\nPara proteger um coração já em pedaços\\nMas a cada novo amanhecer, a dor ecoa\\nEm cada fenda, em cada ruína que restou\\n\\n**(Pré-Refrão - guitarra mais melódica)**\\n\\nOlho para o futuro, um abismo sem fim\\nOnde o eco da sua voz não alcança mais mim\\nAs estrelas piscam indiferentes à minha dor\\nUm universo vasto, e eu me afogando em rancor\\n\\n**(Refrão - vocal gutural e melódico em contraste)**\\n\\nE mesmo que o tempo cure todas as feridas\\nAs cicatrizes gritam, marcando as despedidas\\nEm cada fragmento do meu ser, você ficou\\nUm fantasma que me assombra, um amor que se esvaiu\\n\\n**(Ponte - ritmo mais lento, voz melancólica)**\\n\\nOlho para trás, procurando por respostas\\nEm meio aos destroços de um futuro que não se concretizou\\nMas as páginas da vida não podem ser reescritas\\nApenas viradas, carregando as marcas do que se passou\\n\\n**(Verso 2 - vocal gutural com momentos melódicos)**\\n\\nO universo se expande, indiferente à minha dor\\nEngolindo meus sonhos, meu futuro, meu amor\\nMas em meio a essa vastidão, ainda pulsa em meu peito\\nA esperança de que um dia, eu encontre meu próprio jeito\\n\\n**(Refrão - vocal gutural e melódico em contraste)**\\n\\nE mesmo que o tempo cure todas as feridas\\nAs cicatrizes gritam, marcando as despedidas\\nEm cada fragmento do meu ser, você ficou\\nUm fantasma que me assombra, um amor que se esvaiu\\n\\n**(Final - guitarra distorcida em fade out)**\\n\\nEstilhaçado, perdido em um mar de estrelas\\nProcurando por sentido, por respostas, por apenas respirar\\nMas a única certeza que me resta é a dor\\nUm eco constante do amor que se foi, e nunca mais voltará\\n\\n🎶🎸🎤 \\n'"
            ],
            "application/vnd.google.colaboratory.intrinsic+json": {
              "type": "string"
            }
          },
          "metadata": {},
          "execution_count": 34
        }
      ]
    },
    {
      "cell_type": "markdown",
      "source": [
        "Analisando tanto a saída anterior quanto essa, torna possível compreender em termos práticos como ocorre a memória sumarizada, resumida. A cada nova entrada de prompt que o usuário estabelece com a LLM, o elemento nomeado como *System* fornece à LLM um resumo a partir do qual a IA pode-se basear, como forma de gerar as suas respostas posteriores.\n",
        "\n",
        "Percebe-se que ela se difere das práticas então implementadas por não armazenar de fato o conteúdo gerado, mas um resumo narrado pelo System à LLM, para que essa possa basear as suas respostas, com base numa informação prévia."
      ],
      "metadata": {
        "id": "H3x1mCwJ5-ok"
      }
    }
  ]
}